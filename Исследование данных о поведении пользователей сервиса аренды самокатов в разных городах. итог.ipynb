{
 "cells": [
  {
   "cell_type": "markdown",
   "id": "f336fb84",
   "metadata": {},
   "source": [
    "# Исследование данных о поведении пользователей сервиса аренды самокатов в разных городах\n",
    "\n",
    "***Описание проекта:***\n",
    "\n",
    "  ***В данном проекте мы познакомимся с тремя таблица, где содержится информация о поездках на самокате двух групп пользователей: с платной подпиской и без нее. Нам предстоит обработать данные, проанализировать параметры длительности и дистанции поездок для обеих групп пользователей по отдельности и вместе.***\n",
    "\n",
    "  ***Собрав всю имеющуюся информацию в единый датафрейм, мы проверим 3 гипотезы. Результаты нашей работы в дальнейшем менеджеры используют для того, чтобы решить, нужно ли проводить различные акции для увеличения количества пользователей с подпиской. Будет ли это выгодно.***"
   ]
  },
  {
   "cell_type": "code",
   "execution_count": 1,
   "id": "bf7f7cc7",
   "metadata": {},
   "outputs": [],
   "source": [
    "import pandas as pd\n",
    "import matplotlib.pyplot as plt\n",
    "import numpy as np\n",
    "import scipy.stats as st\n",
    "from IPython.display import display\n",
    "import seaborn as sns"
   ]
  },
  {
   "cell_type": "markdown",
   "id": "f7486243",
   "metadata": {},
   "source": [
    "#### Шаг 1. Загрузка данных"
   ]
  },
  {
   "cell_type": "code",
   "execution_count": 2,
   "id": "4ba144ba",
   "metadata": {},
   "outputs": [],
   "source": [
    "# сохраняем дарафреймы в переменные\n",
    "\n",
    "users_data = pd.read_csv('https://docs.google.com/spreadsheets/d/e/2PACX-1vQDmKRR8FSTwS3vegFErbzU2SQU9grPNyCo7ETNilJy0v7EpbkqjjWjsLGAZpEXN5mrtLz43JYz-nhP/pub?output=csv')\n",
    "rides_data = pd.read_csv('https://docs.google.com/spreadsheets/d/e/2PACX-1vSPgr9ANPhFnX12WL_W3ovk2P67SpRWauqz-5EQS1hUHxlFxXFE-pJYwd7Tas9-tNDzvkhcI-epIH9J/pub?output=csv')\n",
    "subscriptions_data = pd.read_csv('https://docs.google.com/spreadsheets/d/e/2PACX-1vRU-G4PJKghCyzc9B9-gs-pcIV6gW602qX4kcGIwUXZhCiQ1YV-vsZ0BWFCy8P7GJXtQTrTfNxNUfa3/pub?output=csv')"
   ]
  },
  {
   "cell_type": "code",
   "execution_count": 3,
   "id": "3169d37f",
   "metadata": {},
   "outputs": [
    {
     "data": {
      "text/html": [
       "<div>\n",
       "<style scoped>\n",
       "    .dataframe tbody tr th:only-of-type {\n",
       "        vertical-align: middle;\n",
       "    }\n",
       "\n",
       "    .dataframe tbody tr th {\n",
       "        vertical-align: top;\n",
       "    }\n",
       "\n",
       "    .dataframe thead th {\n",
       "        text-align: right;\n",
       "    }\n",
       "</style>\n",
       "<table border=\"1\" class=\"dataframe\">\n",
       "  <thead>\n",
       "    <tr style=\"text-align: right;\">\n",
       "      <th></th>\n",
       "      <th>user_id</th>\n",
       "      <th>name</th>\n",
       "      <th>age</th>\n",
       "      <th>city</th>\n",
       "      <th>subscription_type</th>\n",
       "    </tr>\n",
       "  </thead>\n",
       "  <tbody>\n",
       "    <tr>\n",
       "      <th>0</th>\n",
       "      <td>1</td>\n",
       "      <td>Кира</td>\n",
       "      <td>22</td>\n",
       "      <td>Тюмень</td>\n",
       "      <td>ultra</td>\n",
       "    </tr>\n",
       "    <tr>\n",
       "      <th>1</th>\n",
       "      <td>2</td>\n",
       "      <td>Станислав</td>\n",
       "      <td>31</td>\n",
       "      <td>Омск</td>\n",
       "      <td>ultra</td>\n",
       "    </tr>\n",
       "    <tr>\n",
       "      <th>2</th>\n",
       "      <td>3</td>\n",
       "      <td>Алексей</td>\n",
       "      <td>20</td>\n",
       "      <td>Москва</td>\n",
       "      <td>ultra</td>\n",
       "    </tr>\n",
       "    <tr>\n",
       "      <th>3</th>\n",
       "      <td>4</td>\n",
       "      <td>Константин</td>\n",
       "      <td>26</td>\n",
       "      <td>Ростов-на-Дону</td>\n",
       "      <td>ultra</td>\n",
       "    </tr>\n",
       "    <tr>\n",
       "      <th>4</th>\n",
       "      <td>5</td>\n",
       "      <td>Адель</td>\n",
       "      <td>28</td>\n",
       "      <td>Омск</td>\n",
       "      <td>ultra</td>\n",
       "    </tr>\n",
       "  </tbody>\n",
       "</table>\n",
       "</div>"
      ],
      "text/plain": [
       "   user_id        name  age            city subscription_type\n",
       "0        1        Кира   22          Тюмень             ultra\n",
       "1        2   Станислав   31            Омск             ultra\n",
       "2        3     Алексей   20          Москва             ultra\n",
       "3        4  Константин   26  Ростов-на-Дону             ultra\n",
       "4        5       Адель   28            Омск             ultra"
      ]
     },
     "execution_count": 3,
     "metadata": {},
     "output_type": "execute_result"
    }
   ],
   "source": [
    "users_data.head()"
   ]
  },
  {
   "cell_type": "code",
   "execution_count": 4,
   "id": "3ec94828",
   "metadata": {},
   "outputs": [
    {
     "name": "stdout",
     "output_type": "stream",
     "text": [
      "<class 'pandas.core.frame.DataFrame'>\n",
      "RangeIndex: 1565 entries, 0 to 1564\n",
      "Data columns (total 5 columns):\n",
      " #   Column             Non-Null Count  Dtype \n",
      "---  ------             --------------  ----- \n",
      " 0   user_id            1565 non-null   int64 \n",
      " 1   name               1565 non-null   object\n",
      " 2   age                1565 non-null   int64 \n",
      " 3   city               1565 non-null   object\n",
      " 4   subscription_type  1565 non-null   object\n",
      "dtypes: int64(2), object(3)\n",
      "memory usage: 61.3+ KB\n"
     ]
    }
   ],
   "source": [
    "users_data.info()"
   ]
  },
  {
   "cell_type": "code",
   "execution_count": 5,
   "id": "eda8bbe5",
   "metadata": {},
   "outputs": [
    {
     "data": {
      "text/html": [
       "<div>\n",
       "<style scoped>\n",
       "    .dataframe tbody tr th:only-of-type {\n",
       "        vertical-align: middle;\n",
       "    }\n",
       "\n",
       "    .dataframe tbody tr th {\n",
       "        vertical-align: top;\n",
       "    }\n",
       "\n",
       "    .dataframe thead th {\n",
       "        text-align: right;\n",
       "    }\n",
       "</style>\n",
       "<table border=\"1\" class=\"dataframe\">\n",
       "  <thead>\n",
       "    <tr style=\"text-align: right;\">\n",
       "      <th></th>\n",
       "      <th>user_id</th>\n",
       "      <th>distance</th>\n",
       "      <th>duration</th>\n",
       "      <th>date</th>\n",
       "    </tr>\n",
       "  </thead>\n",
       "  <tbody>\n",
       "    <tr>\n",
       "      <th>0</th>\n",
       "      <td>1</td>\n",
       "      <td>4409.919140</td>\n",
       "      <td>25.599769</td>\n",
       "      <td>2021-01-01</td>\n",
       "    </tr>\n",
       "    <tr>\n",
       "      <th>1</th>\n",
       "      <td>1</td>\n",
       "      <td>2617.592153</td>\n",
       "      <td>15.816871</td>\n",
       "      <td>2021-01-18</td>\n",
       "    </tr>\n",
       "    <tr>\n",
       "      <th>2</th>\n",
       "      <td>1</td>\n",
       "      <td>754.159807</td>\n",
       "      <td>6.232113</td>\n",
       "      <td>2021-04-20</td>\n",
       "    </tr>\n",
       "    <tr>\n",
       "      <th>3</th>\n",
       "      <td>1</td>\n",
       "      <td>2694.783254</td>\n",
       "      <td>18.511000</td>\n",
       "      <td>2021-08-11</td>\n",
       "    </tr>\n",
       "    <tr>\n",
       "      <th>4</th>\n",
       "      <td>1</td>\n",
       "      <td>4028.687306</td>\n",
       "      <td>26.265803</td>\n",
       "      <td>2021-08-28</td>\n",
       "    </tr>\n",
       "  </tbody>\n",
       "</table>\n",
       "</div>"
      ],
      "text/plain": [
       "   user_id     distance   duration        date\n",
       "0        1  4409.919140  25.599769  2021-01-01\n",
       "1        1  2617.592153  15.816871  2021-01-18\n",
       "2        1   754.159807   6.232113  2021-04-20\n",
       "3        1  2694.783254  18.511000  2021-08-11\n",
       "4        1  4028.687306  26.265803  2021-08-28"
      ]
     },
     "execution_count": 5,
     "metadata": {},
     "output_type": "execute_result"
    }
   ],
   "source": [
    "rides_data.head()"
   ]
  },
  {
   "cell_type": "code",
   "execution_count": 6,
   "id": "14abb7d7",
   "metadata": {},
   "outputs": [
    {
     "name": "stdout",
     "output_type": "stream",
     "text": [
      "<class 'pandas.core.frame.DataFrame'>\n",
      "RangeIndex: 18068 entries, 0 to 18067\n",
      "Data columns (total 4 columns):\n",
      " #   Column    Non-Null Count  Dtype  \n",
      "---  ------    --------------  -----  \n",
      " 0   user_id   18068 non-null  int64  \n",
      " 1   distance  18068 non-null  float64\n",
      " 2   duration  18068 non-null  float64\n",
      " 3   date      18068 non-null  object \n",
      "dtypes: float64(2), int64(1), object(1)\n",
      "memory usage: 564.8+ KB\n"
     ]
    }
   ],
   "source": [
    "rides_data.info()"
   ]
  },
  {
   "cell_type": "code",
   "execution_count": 7,
   "id": "10c856de",
   "metadata": {},
   "outputs": [
    {
     "data": {
      "text/html": [
       "<div>\n",
       "<style scoped>\n",
       "    .dataframe tbody tr th:only-of-type {\n",
       "        vertical-align: middle;\n",
       "    }\n",
       "\n",
       "    .dataframe tbody tr th {\n",
       "        vertical-align: top;\n",
       "    }\n",
       "\n",
       "    .dataframe thead th {\n",
       "        text-align: right;\n",
       "    }\n",
       "</style>\n",
       "<table border=\"1\" class=\"dataframe\">\n",
       "  <thead>\n",
       "    <tr style=\"text-align: right;\">\n",
       "      <th></th>\n",
       "      <th>subscription_type</th>\n",
       "      <th>minute_price</th>\n",
       "      <th>start_ride_price</th>\n",
       "      <th>subscription_fee</th>\n",
       "    </tr>\n",
       "  </thead>\n",
       "  <tbody>\n",
       "    <tr>\n",
       "      <th>0</th>\n",
       "      <td>free</td>\n",
       "      <td>8</td>\n",
       "      <td>50</td>\n",
       "      <td>0</td>\n",
       "    </tr>\n",
       "    <tr>\n",
       "      <th>1</th>\n",
       "      <td>ultra</td>\n",
       "      <td>6</td>\n",
       "      <td>0</td>\n",
       "      <td>199</td>\n",
       "    </tr>\n",
       "  </tbody>\n",
       "</table>\n",
       "</div>"
      ],
      "text/plain": [
       "  subscription_type  minute_price  start_ride_price  subscription_fee\n",
       "0              free             8                50                 0\n",
       "1             ultra             6                 0               199"
      ]
     },
     "execution_count": 7,
     "metadata": {},
     "output_type": "execute_result"
    }
   ],
   "source": [
    "subscriptions_data.head()"
   ]
  },
  {
   "cell_type": "code",
   "execution_count": 8,
   "id": "7ffd560a",
   "metadata": {},
   "outputs": [
    {
     "name": "stdout",
     "output_type": "stream",
     "text": [
      "<class 'pandas.core.frame.DataFrame'>\n",
      "RangeIndex: 2 entries, 0 to 1\n",
      "Data columns (total 4 columns):\n",
      " #   Column             Non-Null Count  Dtype \n",
      "---  ------             --------------  ----- \n",
      " 0   subscription_type  2 non-null      object\n",
      " 1   minute_price       2 non-null      int64 \n",
      " 2   start_ride_price   2 non-null      int64 \n",
      " 3   subscription_fee   2 non-null      int64 \n",
      "dtypes: int64(3), object(1)\n",
      "memory usage: 196.0+ bytes\n"
     ]
    }
   ],
   "source": [
    "subscriptions_data.info()"
   ]
  },
  {
   "cell_type": "markdown",
   "id": "9d16d45b",
   "metadata": {},
   "source": [
    "Мы узнали основную информацию о трех датафреймах. \n",
    "Первый - \"users_data\" - содержит информацию о пользователях, их городах и типе подписки. Размер: 1565 строк, 5 столбцов\n",
    "Второй - \"rides_data\" - о поездках, их продолительности и дате. Размер: 18068 строк, 4 столбца. В столбце с датой поездки нужно изменить тип данных.\n",
    "Третий - \"subscriptions_data\" - создержит данные о стоимости поездок для пользователей с подпиской и без нее."
   ]
  },
  {
   "cell_type": "markdown",
   "id": "4544b7a8",
   "metadata": {},
   "source": [
    "#### Шаг 2. Предобработка данных"
   ]
  },
  {
   "cell_type": "code",
   "execution_count": 9,
   "id": "8a07e5c7",
   "metadata": {},
   "outputs": [
    {
     "data": {
      "text/plain": [
       "0   2021-01-01\n",
       "1   2021-01-18\n",
       "2   2021-04-20\n",
       "3   2021-08-11\n",
       "4   2021-08-28\n",
       "Name: date, dtype: datetime64[ns]"
      ]
     },
     "execution_count": 9,
     "metadata": {},
     "output_type": "execute_result"
    }
   ],
   "source": [
    "# меняем тип данных object на datetime\n",
    "\n",
    "rides_data['date'] = pd.to_datetime(rides_data['date'])\n",
    "rides_data['date'].head()"
   ]
  },
  {
   "cell_type": "code",
   "execution_count": 10,
   "id": "4ba7d93c",
   "metadata": {},
   "outputs": [
    {
     "name": "stdout",
     "output_type": "stream",
     "text": [
      "[ 1  4  8 10 11 12  3  6  7  2  5  9]\n"
     ]
    },
    {
     "data": {
      "text/plain": [
       "12"
      ]
     },
     "execution_count": 10,
     "metadata": {},
     "output_type": "execute_result"
    }
   ],
   "source": [
    "# создаем столбце month с помощью метода библиотеки pandas\n",
    "\n",
    "rides_data['month'] = pd.DatetimeIndex(rides_data['date']).month\n",
    "\n",
    "# проверяем результат и смотрим, за какой период у нас есть данные\n",
    "\n",
    "rides_data['month'].head()\n",
    "print(rides_data['month'].unique())\n",
    "rides_data['month'].nunique()"
   ]
  },
  {
   "cell_type": "markdown",
   "id": "0d47839a",
   "metadata": {},
   "source": [
    "Теперь мы видим, что располагаем данными за весь год."
   ]
  },
  {
   "cell_type": "code",
   "execution_count": 11,
   "id": "42cb0335",
   "metadata": {},
   "outputs": [
    {
     "data": {
      "text/plain": [
       "31"
      ]
     },
     "execution_count": 11,
     "metadata": {},
     "output_type": "execute_result"
    }
   ],
   "source": [
    "# проверяем есть ли дубликаты в датафрейме users_data и сколько их\n",
    "users_data.duplicated().sum()"
   ]
  },
  {
   "cell_type": "code",
   "execution_count": 12,
   "id": "ec8d3c78",
   "metadata": {},
   "outputs": [
    {
     "data": {
      "text/plain": [
       "user_id\n",
       "209     2\n",
       "807     2\n",
       "611     2\n",
       "43      2\n",
       "737     2\n",
       "47      2\n",
       "1198    2\n",
       "829     2\n",
       "924     2\n",
       "153     2\n",
       "635     2\n",
       "72      2\n",
       "909     2\n",
       "908     2\n",
       "136     2\n",
       "1045    2\n",
       "1237    2\n",
       "127     2\n",
       "659     2\n",
       "307     2\n",
       "1245    2\n",
       "121     2\n",
       "666     2\n",
       "108     2\n",
       "297     2\n",
       "809     2\n",
       "293     2\n",
       "16      2\n",
       "422     2\n",
       "403     2\n",
       "204     2\n",
       "1035    1\n",
       "1041    1\n",
       "1040    1\n",
       "1039    1\n",
       "Name: count, dtype: int64"
      ]
     },
     "execution_count": 12,
     "metadata": {},
     "output_type": "execute_result"
    }
   ],
   "source": [
    "users_data['user_id'].value_counts().head(35)"
   ]
  },
  {
   "cell_type": "code",
   "execution_count": 13,
   "id": "72acd758",
   "metadata": {},
   "outputs": [
    {
     "data": {
      "text/plain": [
       "0"
      ]
     },
     "execution_count": 13,
     "metadata": {},
     "output_type": "execute_result"
    }
   ],
   "source": [
    "# удаляем дубликаты строк и проверяем результат\n",
    "users_data = users_data.drop_duplicates().reset_index() \n",
    "users_data.duplicated().sum()"
   ]
  },
  {
   "cell_type": "code",
   "execution_count": 14,
   "id": "9c1cab19",
   "metadata": {},
   "outputs": [
    {
     "data": {
      "text/plain": [
       "index                0\n",
       "user_id              0\n",
       "name                 0\n",
       "age                  0\n",
       "city                 0\n",
       "subscription_type    0\n",
       "dtype: int64"
      ]
     },
     "execution_count": 14,
     "metadata": {},
     "output_type": "execute_result"
    }
   ],
   "source": [
    "# считаем пропуски в первом датафрейме\n",
    "users_data.isna().sum()"
   ]
  },
  {
   "cell_type": "code",
   "execution_count": 15,
   "id": "d27e759c",
   "metadata": {},
   "outputs": [
    {
     "data": {
      "text/plain": [
       "0"
      ]
     },
     "execution_count": 15,
     "metadata": {},
     "output_type": "execute_result"
    }
   ],
   "source": [
    "# считаем дубликаты во втором датафрейме\n",
    "rides_data.duplicated().sum()"
   ]
  },
  {
   "cell_type": "code",
   "execution_count": 16,
   "id": "fcac39b8",
   "metadata": {},
   "outputs": [
    {
     "data": {
      "text/plain": [
       "user_id     0\n",
       "distance    0\n",
       "duration    0\n",
       "date        0\n",
       "month       0\n",
       "dtype: int64"
      ]
     },
     "execution_count": 16,
     "metadata": {},
     "output_type": "execute_result"
    }
   ],
   "source": [
    "# считаем пропуски во втором датафрейме\n",
    "rides_data.isna().sum()"
   ]
  },
  {
   "cell_type": "markdown",
   "id": "6c7f6252",
   "metadata": {},
   "source": [
    "В ходе предобработки данных мы удалили дубликаты строк из первого датафрейма с информацией о пользователях. Также узнали, что ни в одном датафрейме нет пропусков (в subscriptions_data всего 2 строки, поэтому проверять не нужно). Внесли два изменения в датафрейм \"rides_data\": исправили тип данных в столбце \"date\" и добавили исходя из него столбец с указанием номера месяца, в который была совершена поездка. "
   ]
  },
  {
   "cell_type": "markdown",
   "id": "c703fedb",
   "metadata": {},
   "source": [
    "#### Шаг 3. Исследовательский анализ данных"
   ]
  },
  {
   "cell_type": "code",
   "execution_count": 17,
   "id": "f9f78a8b",
   "metadata": {},
   "outputs": [
    {
     "name": "stdout",
     "output_type": "stream",
     "text": [
      "city\n",
      "Пятигорск         219\n",
      "Екатеринбург      204\n",
      "Ростов-на-Дону    198\n",
      "Краснодар         193\n",
      "Сочи              189\n",
      "Омск              183\n",
      "Тюмень            180\n",
      "Москва            168\n",
      "Name: count, dtype: int64\n"
     ]
    },
    {
     "data": {
      "image/png": "[encoded data removed]",
      "text/plain": [
       "<Figure size 900x500 with 1 Axes>"
      ]
     },
     "metadata": {},
     "output_type": "display_data"
    }
   ],
   "source": [
    "# считаем, как часто разные города встречаются в данных, также строим для этого график\n",
    "\n",
    "print(users_data['city'].value_counts())\n",
    "users_data['city'].value_counts().plot(kind='barh', figsize=(9,5))\n",
    "plt.title(\"Частота встречаемости городов\", fontsize=15)\n",
    "plt.xlabel(\"число наблюдений\", fontsize=10)\n",
    "plt.ylabel(\"названия городов\", fontsize=10)\n",
    "plt.show()"
   ]
  },
  {
   "cell_type": "markdown",
   "id": "8ed0e10b",
   "metadata": {},
   "source": [
    "На графике мы видим, что Москва встречается реже остальных 7 городов - 168 раз, первым по частоте оказался Пятигорск со значением 219. В целом нельзя сказать, что какой-то город выделяется, разница между самым маленьким и большим значениями - 50. "
   ]
  },
  {
   "cell_type": "code",
   "execution_count": 18,
   "id": "7e64a4e4",
   "metadata": {},
   "outputs": [
    {
     "name": "stdout",
     "output_type": "stream",
     "text": [
      "subscription_type\n",
      "free     835\n",
      "ultra    699\n",
      "Name: count, dtype: int64\n"
     ]
    },
    {
     "data": {
      "image/png": "[encoded data removed]",
      "text/plain": [
       "<Figure size 1000x700 with 1 Axes>"
      ]
     },
     "metadata": {},
     "output_type": "display_data"
    }
   ],
   "source": [
    "# считаем сколько пользователей с подпиской и без и отражаем результат на графике\n",
    "\n",
    "print(users_data['subscription_type'].value_counts())\n",
    "\n",
    "colors = sns.color_palette('pastel')[ 0:5 ]\n",
    "sub_type_plot = plt.figure(figsize =(10, 7))\n",
    "plt.pie(users_data['subscription_type'].value_counts(), labels = ['без подписки', 'ежемесячная подписка'], \n",
    "        colors = colors, autopct='%.0f%%')\n",
    "plt.title(\"Количество человек с подпиской и без нее\", fontsize=15)\n",
    "plt.show()"
   ]
  },
  {
   "cell_type": "markdown",
   "id": "2da21051",
   "metadata": {},
   "source": [
    "Пользователей без подписки больше - 835, оплачивающих подписку - 699. Опять же нельзя сказать, что значения имеют большой разрыв. "
   ]
  },
  {
   "cell_type": "code",
   "execution_count": 19,
   "id": "39aa7f87",
   "metadata": {},
   "outputs": [
    {
     "name": "stdout",
     "output_type": "stream",
     "text": [
      "count    1534.000000\n",
      "mean       24.903520\n",
      "std         4.572367\n",
      "min        12.000000\n",
      "25%        22.000000\n",
      "50%        25.000000\n",
      "75%        28.000000\n",
      "max        43.000000\n",
      "Name: age, dtype: float64\n"
     ]
    },
    {
     "data": {
      "image/png": "[encoded data removed]",
      "text/plain": [
       "<Figure size 800x500 with 1 Axes>"
      ]
     },
     "metadata": {},
     "output_type": "display_data"
    }
   ],
   "source": [
    "# изучаем распределение пользователей по возрасту, визуализируем полученный результат. \n",
    "\n",
    "print(users_data['age'].describe())\n",
    "users_data['age'].hist(bins=30, figsize=(8,5))\n",
    "plt.title(\"Возраст пользователей сервиса\", fontsize=15)\n",
    "plt.xlabel(\"возраст\", fontsize=10)\n",
    "plt.ylabel(\"число наблюдений\", fontsize=10)\n",
    "plt.show()"
   ]
  },
  {
   "cell_type": "markdown",
   "id": "30f2b9ba",
   "metadata": {},
   "source": [
    "По графику мы видим, что распределение пользователей по возрасту схоже с нормальным распределением, так как напоминает колокол, а медиана и среднее близки по значению. Больше всего пользователей от 20 до 30 лет, об этом говорят и показатели квартилей: Q1 - 22, Q3 - 28. Средний возраст пользователей - 25 лет. "
   ]
  },
  {
   "cell_type": "code",
   "execution_count": 20,
   "id": "e8ca1659",
   "metadata": {},
   "outputs": [
    {
     "name": "stdout",
     "output_type": "stream",
     "text": [
      "count    18068.000000\n",
      "mean      3070.659976\n",
      "std       1116.831209\n",
      "min          0.855683\n",
      "25%       2543.226360\n",
      "50%       3133.609994\n",
      "75%       3776.222735\n",
      "max       7211.007745\n",
      "Name: distance, dtype: float64\n"
     ]
    },
    {
     "data": {
      "image/png": "[encoded data removed]",
      "text/plain": [
       "<Figure size 1000x500 with 1 Axes>"
      ]
     },
     "metadata": {},
     "output_type": "display_data"
    }
   ],
   "source": [
    "# определяем какое расстояние пользователи преодолевают за одну поездку.\n",
    "\n",
    "print(rides_data['distance'].describe())\n",
    "rides_data['distance'].hist(bins=150, figsize=(10,5))\n",
    "plt.title(\"Дистания поездки в метрах\", fontsize=15)\n",
    "plt.xlabel(\"метры\", fontsize=10)\n",
    "plt.ylabel(\"число наблюдений\", fontsize=10)\n",
    "plt.show()"
   ]
  },
  {
   "cell_type": "markdown",
   "id": "0f8c3bf7",
   "metadata": {},
   "source": [
    "На графике мы видим два пика, примерно около 700 и 3000 метров. Интересно, что есть поездки близкие к 0, а на отметке 1,5 км можно заметить \"провал\", где показатель достигает примерно 50. Основной объем данных находится между 2500 и 4000 метров, после этой отметки мы видим резкое снижение показателя, получается, что люди редко проезжают на самокате более 4 км.  "
   ]
  },
  {
   "cell_type": "code",
   "execution_count": 21,
   "id": "c3b3523d",
   "metadata": {},
   "outputs": [
    {
     "name": "stdout",
     "output_type": "stream",
     "text": [
      "count    18068.000000\n",
      "mean        17.805011\n",
      "std          6.091051\n",
      "min          0.500000\n",
      "25%         13.597563\n",
      "50%         17.678395\n",
      "75%         21.724800\n",
      "max         40.823963\n",
      "Name: duration, dtype: float64\n"
     ]
    },
    {
     "data": {
      "image/png": "[encoded data removed]",
      "text/plain": [
       "<Figure size 900x500 with 1 Axes>"
      ]
     },
     "metadata": {},
     "output_type": "display_data"
    }
   ],
   "source": [
    "# определяем сколько пользователи тратят на поездку\n",
    "\n",
    "print(rides_data['duration'].describe())\n",
    "rides_data['duration'].hist(bins=150, figsize=(9,5))\n",
    "plt.title(\"Время затраченное на поездку в минутах\", fontsize=15)\n",
    "plt.xlabel(\"минуты\", fontsize=12)\n",
    "plt.ylabel(\"число наблюдений\", fontsize=12)\n",
    "plt.show()"
   ]
  },
  {
   "cell_type": "markdown",
   "id": "d9639df2",
   "metadata": {},
   "source": [
    "Есть четко выделяющийся маленький пик около 0 минут (таких поездок 100), это те поездки, которые начали и сразу же закончили по каким-то причинам. Если смотреть по графику, то основной объем значений лежит между 12 и 22, примерно такие же цифры показывают квартили. После 22 минут мы наблюдаем быстрый спад, поездки более 30 минут встречаются совсем редко, частота не превышает 40 и стретится вниз. \n",
    "\n",
    "График распределения продолжительности поездок представляет нормальное распределение, его среднее и медина почти равны. "
   ]
  },
  {
   "cell_type": "markdown",
   "id": "f676df49",
   "metadata": {},
   "source": [
    "#### Шаг 4. Объединение данных"
   ]
  },
  {
   "cell_type": "code",
   "execution_count": 22,
   "id": "8065b752",
   "metadata": {},
   "outputs": [
    {
     "data": {
      "text/html": [
       "<div>\n",
       "<style scoped>\n",
       "    .dataframe tbody tr th:only-of-type {\n",
       "        vertical-align: middle;\n",
       "    }\n",
       "\n",
       "    .dataframe tbody tr th {\n",
       "        vertical-align: top;\n",
       "    }\n",
       "\n",
       "    .dataframe thead th {\n",
       "        text-align: right;\n",
       "    }\n",
       "</style>\n",
       "<table border=\"1\" class=\"dataframe\">\n",
       "  <thead>\n",
       "    <tr style=\"text-align: right;\">\n",
       "      <th></th>\n",
       "      <th>index</th>\n",
       "      <th>user_id</th>\n",
       "      <th>name</th>\n",
       "      <th>age</th>\n",
       "      <th>city</th>\n",
       "      <th>subscription_type</th>\n",
       "      <th>distance</th>\n",
       "      <th>duration</th>\n",
       "      <th>date</th>\n",
       "      <th>month</th>\n",
       "    </tr>\n",
       "  </thead>\n",
       "  <tbody>\n",
       "    <tr>\n",
       "      <th>0</th>\n",
       "      <td>0</td>\n",
       "      <td>1</td>\n",
       "      <td>Кира</td>\n",
       "      <td>22</td>\n",
       "      <td>Тюмень</td>\n",
       "      <td>ultra</td>\n",
       "      <td>4409.919140</td>\n",
       "      <td>25.599769</td>\n",
       "      <td>2021-01-01</td>\n",
       "      <td>1</td>\n",
       "    </tr>\n",
       "    <tr>\n",
       "      <th>1</th>\n",
       "      <td>0</td>\n",
       "      <td>1</td>\n",
       "      <td>Кира</td>\n",
       "      <td>22</td>\n",
       "      <td>Тюмень</td>\n",
       "      <td>ultra</td>\n",
       "      <td>2617.592153</td>\n",
       "      <td>15.816871</td>\n",
       "      <td>2021-01-18</td>\n",
       "      <td>1</td>\n",
       "    </tr>\n",
       "    <tr>\n",
       "      <th>2</th>\n",
       "      <td>0</td>\n",
       "      <td>1</td>\n",
       "      <td>Кира</td>\n",
       "      <td>22</td>\n",
       "      <td>Тюмень</td>\n",
       "      <td>ultra</td>\n",
       "      <td>754.159807</td>\n",
       "      <td>6.232113</td>\n",
       "      <td>2021-04-20</td>\n",
       "      <td>4</td>\n",
       "    </tr>\n",
       "    <tr>\n",
       "      <th>3</th>\n",
       "      <td>0</td>\n",
       "      <td>1</td>\n",
       "      <td>Кира</td>\n",
       "      <td>22</td>\n",
       "      <td>Тюмень</td>\n",
       "      <td>ultra</td>\n",
       "      <td>2694.783254</td>\n",
       "      <td>18.511000</td>\n",
       "      <td>2021-08-11</td>\n",
       "      <td>8</td>\n",
       "    </tr>\n",
       "    <tr>\n",
       "      <th>4</th>\n",
       "      <td>0</td>\n",
       "      <td>1</td>\n",
       "      <td>Кира</td>\n",
       "      <td>22</td>\n",
       "      <td>Тюмень</td>\n",
       "      <td>ultra</td>\n",
       "      <td>4028.687306</td>\n",
       "      <td>26.265803</td>\n",
       "      <td>2021-08-28</td>\n",
       "      <td>8</td>\n",
       "    </tr>\n",
       "    <tr>\n",
       "      <th>5</th>\n",
       "      <td>0</td>\n",
       "      <td>1</td>\n",
       "      <td>Кира</td>\n",
       "      <td>22</td>\n",
       "      <td>Тюмень</td>\n",
       "      <td>ultra</td>\n",
       "      <td>2770.890808</td>\n",
       "      <td>16.650138</td>\n",
       "      <td>2021-10-09</td>\n",
       "      <td>10</td>\n",
       "    </tr>\n",
       "    <tr>\n",
       "      <th>6</th>\n",
       "      <td>0</td>\n",
       "      <td>1</td>\n",
       "      <td>Кира</td>\n",
       "      <td>22</td>\n",
       "      <td>Тюмень</td>\n",
       "      <td>ultra</td>\n",
       "      <td>3039.020292</td>\n",
       "      <td>14.927879</td>\n",
       "      <td>2021-10-19</td>\n",
       "      <td>10</td>\n",
       "    </tr>\n",
       "    <tr>\n",
       "      <th>7</th>\n",
       "      <td>0</td>\n",
       "      <td>1</td>\n",
       "      <td>Кира</td>\n",
       "      <td>22</td>\n",
       "      <td>Тюмень</td>\n",
       "      <td>ultra</td>\n",
       "      <td>2842.118050</td>\n",
       "      <td>23.117468</td>\n",
       "      <td>2021-11-06</td>\n",
       "      <td>11</td>\n",
       "    </tr>\n",
       "    <tr>\n",
       "      <th>8</th>\n",
       "      <td>0</td>\n",
       "      <td>1</td>\n",
       "      <td>Кира</td>\n",
       "      <td>22</td>\n",
       "      <td>Тюмень</td>\n",
       "      <td>ultra</td>\n",
       "      <td>3412.690668</td>\n",
       "      <td>15.238072</td>\n",
       "      <td>2021-11-14</td>\n",
       "      <td>11</td>\n",
       "    </tr>\n",
       "    <tr>\n",
       "      <th>9</th>\n",
       "      <td>0</td>\n",
       "      <td>1</td>\n",
       "      <td>Кира</td>\n",
       "      <td>22</td>\n",
       "      <td>Тюмень</td>\n",
       "      <td>ultra</td>\n",
       "      <td>748.690645</td>\n",
       "      <td>15.041884</td>\n",
       "      <td>2021-11-22</td>\n",
       "      <td>11</td>\n",
       "    </tr>\n",
       "  </tbody>\n",
       "</table>\n",
       "</div>"
      ],
      "text/plain": [
       "   index  user_id  name  age    city subscription_type     distance  \\\n",
       "0      0        1  Кира   22  Тюмень             ultra  4409.919140   \n",
       "1      0        1  Кира   22  Тюмень             ultra  2617.592153   \n",
       "2      0        1  Кира   22  Тюмень             ultra   754.159807   \n",
       "3      0        1  Кира   22  Тюмень             ultra  2694.783254   \n",
       "4      0        1  Кира   22  Тюмень             ultra  4028.687306   \n",
       "5      0        1  Кира   22  Тюмень             ultra  2770.890808   \n",
       "6      0        1  Кира   22  Тюмень             ultra  3039.020292   \n",
       "7      0        1  Кира   22  Тюмень             ultra  2842.118050   \n",
       "8      0        1  Кира   22  Тюмень             ultra  3412.690668   \n",
       "9      0        1  Кира   22  Тюмень             ultra   748.690645   \n",
       "\n",
       "    duration       date  month  \n",
       "0  25.599769 2021-01-01      1  \n",
       "1  15.816871 2021-01-18      1  \n",
       "2   6.232113 2021-04-20      4  \n",
       "3  18.511000 2021-08-11      8  \n",
       "4  26.265803 2021-08-28      8  \n",
       "5  16.650138 2021-10-09     10  \n",
       "6  14.927879 2021-10-19     10  \n",
       "7  23.117468 2021-11-06     11  \n",
       "8  15.238072 2021-11-14     11  \n",
       "9  15.041884 2021-11-22     11  "
      ]
     },
     "execution_count": 22,
     "metadata": {},
     "output_type": "execute_result"
    }
   ],
   "source": [
    "# объединяем датафрейм с данными о пользователях с датафреймом с данными о поездках по столбцу \"user_id\"\n",
    "\n",
    "user_ride_data = users_data.merge(rides_data, on='user_id', how='inner')\n",
    "user_ride_data.head(10)"
   ]
  },
  {
   "cell_type": "code",
   "execution_count": 23,
   "id": "b0be40fe",
   "metadata": {},
   "outputs": [
    {
     "data": {
      "text/html": [
       "<div>\n",
       "<style scoped>\n",
       "    .dataframe tbody tr th:only-of-type {\n",
       "        vertical-align: middle;\n",
       "    }\n",
       "\n",
       "    .dataframe tbody tr th {\n",
       "        vertical-align: top;\n",
       "    }\n",
       "\n",
       "    .dataframe thead th {\n",
       "        text-align: right;\n",
       "    }\n",
       "</style>\n",
       "<table border=\"1\" class=\"dataframe\">\n",
       "  <thead>\n",
       "    <tr style=\"text-align: right;\">\n",
       "      <th></th>\n",
       "      <th>index</th>\n",
       "      <th>user_id</th>\n",
       "      <th>name</th>\n",
       "      <th>age</th>\n",
       "      <th>city</th>\n",
       "      <th>subscription_type</th>\n",
       "      <th>distance</th>\n",
       "      <th>duration</th>\n",
       "      <th>date</th>\n",
       "      <th>month</th>\n",
       "      <th>minute_price</th>\n",
       "      <th>start_ride_price</th>\n",
       "      <th>subscription_fee</th>\n",
       "    </tr>\n",
       "  </thead>\n",
       "  <tbody>\n",
       "    <tr>\n",
       "      <th>0</th>\n",
       "      <td>0</td>\n",
       "      <td>1</td>\n",
       "      <td>Кира</td>\n",
       "      <td>22</td>\n",
       "      <td>Тюмень</td>\n",
       "      <td>ultra</td>\n",
       "      <td>4409.919140</td>\n",
       "      <td>25.599769</td>\n",
       "      <td>2021-01-01</td>\n",
       "      <td>1</td>\n",
       "      <td>6</td>\n",
       "      <td>0</td>\n",
       "      <td>199</td>\n",
       "    </tr>\n",
       "    <tr>\n",
       "      <th>1</th>\n",
       "      <td>0</td>\n",
       "      <td>1</td>\n",
       "      <td>Кира</td>\n",
       "      <td>22</td>\n",
       "      <td>Тюмень</td>\n",
       "      <td>ultra</td>\n",
       "      <td>2617.592153</td>\n",
       "      <td>15.816871</td>\n",
       "      <td>2021-01-18</td>\n",
       "      <td>1</td>\n",
       "      <td>6</td>\n",
       "      <td>0</td>\n",
       "      <td>199</td>\n",
       "    </tr>\n",
       "    <tr>\n",
       "      <th>2</th>\n",
       "      <td>0</td>\n",
       "      <td>1</td>\n",
       "      <td>Кира</td>\n",
       "      <td>22</td>\n",
       "      <td>Тюмень</td>\n",
       "      <td>ultra</td>\n",
       "      <td>754.159807</td>\n",
       "      <td>6.232113</td>\n",
       "      <td>2021-04-20</td>\n",
       "      <td>4</td>\n",
       "      <td>6</td>\n",
       "      <td>0</td>\n",
       "      <td>199</td>\n",
       "    </tr>\n",
       "    <tr>\n",
       "      <th>3</th>\n",
       "      <td>0</td>\n",
       "      <td>1</td>\n",
       "      <td>Кира</td>\n",
       "      <td>22</td>\n",
       "      <td>Тюмень</td>\n",
       "      <td>ultra</td>\n",
       "      <td>2694.783254</td>\n",
       "      <td>18.511000</td>\n",
       "      <td>2021-08-11</td>\n",
       "      <td>8</td>\n",
       "      <td>6</td>\n",
       "      <td>0</td>\n",
       "      <td>199</td>\n",
       "    </tr>\n",
       "    <tr>\n",
       "      <th>4</th>\n",
       "      <td>0</td>\n",
       "      <td>1</td>\n",
       "      <td>Кира</td>\n",
       "      <td>22</td>\n",
       "      <td>Тюмень</td>\n",
       "      <td>ultra</td>\n",
       "      <td>4028.687306</td>\n",
       "      <td>26.265803</td>\n",
       "      <td>2021-08-28</td>\n",
       "      <td>8</td>\n",
       "      <td>6</td>\n",
       "      <td>0</td>\n",
       "      <td>199</td>\n",
       "    </tr>\n",
       "  </tbody>\n",
       "</table>\n",
       "</div>"
      ],
      "text/plain": [
       "   index  user_id  name  age    city subscription_type     distance  \\\n",
       "0      0        1  Кира   22  Тюмень             ultra  4409.919140   \n",
       "1      0        1  Кира   22  Тюмень             ultra  2617.592153   \n",
       "2      0        1  Кира   22  Тюмень             ultra   754.159807   \n",
       "3      0        1  Кира   22  Тюмень             ultra  2694.783254   \n",
       "4      0        1  Кира   22  Тюмень             ultra  4028.687306   \n",
       "\n",
       "    duration       date  month  minute_price  start_ride_price  \\\n",
       "0  25.599769 2021-01-01      1             6                 0   \n",
       "1  15.816871 2021-01-18      1             6                 0   \n",
       "2   6.232113 2021-04-20      4             6                 0   \n",
       "3  18.511000 2021-08-11      8             6                 0   \n",
       "4  26.265803 2021-08-28      8             6                 0   \n",
       "\n",
       "   subscription_fee  \n",
       "0               199  \n",
       "1               199  \n",
       "2               199  \n",
       "3               199  \n",
       "4               199  "
      ]
     },
     "execution_count": 23,
     "metadata": {},
     "output_type": "execute_result"
    }
   ],
   "source": [
    "# теперь добавляем данные о подписках, стоимости старта и поездок\n",
    "\n",
    "user_ride_data = user_ride_data.merge(subscriptions_data, on='subscription_type', how='inner')\n",
    "user_ride_data.head()"
   ]
  },
  {
   "cell_type": "code",
   "execution_count": 24,
   "id": "42e89c56",
   "metadata": {},
   "outputs": [
    {
     "name": "stdout",
     "output_type": "stream",
     "text": [
      "Размер таблицы users_data: (1534, 6)\n",
      "Размер таблицы rides_data: (18068, 5)\n",
      "Размер таблицы subscriptions_data: (2, 4)\n",
      "Размер таблицы user_ride_data: (18068, 13)\n"
     ]
    }
   ],
   "source": [
    "print('Размер таблицы users_data:', users_data.shape)\n",
    "print('Размер таблицы rides_data:', rides_data.shape)\n",
    "print('Размер таблицы subscriptions_data:', subscriptions_data.shape)\n",
    "print('Размер таблицы user_ride_data:', user_ride_data.shape)"
   ]
  },
  {
   "cell_type": "markdown",
   "id": "f1b98f02",
   "metadata": {},
   "source": [
    "Количество строк новой таблицы совпаает с rides_data (таблица с поездками), значит все правильно."
   ]
  },
  {
   "cell_type": "code",
   "execution_count": 25,
   "id": "c728fb96",
   "metadata": {},
   "outputs": [
    {
     "data": {
      "text/html": [
       "<div>\n",
       "<style scoped>\n",
       "    .dataframe tbody tr th:only-of-type {\n",
       "        vertical-align: middle;\n",
       "    }\n",
       "\n",
       "    .dataframe tbody tr th {\n",
       "        vertical-align: top;\n",
       "    }\n",
       "\n",
       "    .dataframe thead th {\n",
       "        text-align: right;\n",
       "    }\n",
       "</style>\n",
       "<table border=\"1\" class=\"dataframe\">\n",
       "  <thead>\n",
       "    <tr style=\"text-align: right;\">\n",
       "      <th></th>\n",
       "      <th>index</th>\n",
       "      <th>user_id</th>\n",
       "      <th>name</th>\n",
       "      <th>age</th>\n",
       "      <th>city</th>\n",
       "      <th>subscription_type</th>\n",
       "      <th>distance</th>\n",
       "      <th>duration</th>\n",
       "      <th>date</th>\n",
       "      <th>month</th>\n",
       "      <th>minute_price</th>\n",
       "      <th>start_ride_price</th>\n",
       "      <th>subscription_fee</th>\n",
       "    </tr>\n",
       "  </thead>\n",
       "  <tbody>\n",
       "    <tr>\n",
       "      <th>6500</th>\n",
       "      <td>699</td>\n",
       "      <td>700</td>\n",
       "      <td>Айдар</td>\n",
       "      <td>22</td>\n",
       "      <td>Омск</td>\n",
       "      <td>free</td>\n",
       "      <td>2515.690719</td>\n",
       "      <td>14.944286</td>\n",
       "      <td>2021-01-02</td>\n",
       "      <td>1</td>\n",
       "      <td>8</td>\n",
       "      <td>50</td>\n",
       "      <td>0</td>\n",
       "    </tr>\n",
       "    <tr>\n",
       "      <th>6501</th>\n",
       "      <td>699</td>\n",
       "      <td>700</td>\n",
       "      <td>Айдар</td>\n",
       "      <td>22</td>\n",
       "      <td>Омск</td>\n",
       "      <td>free</td>\n",
       "      <td>846.932642</td>\n",
       "      <td>16.234663</td>\n",
       "      <td>2021-02-01</td>\n",
       "      <td>2</td>\n",
       "      <td>8</td>\n",
       "      <td>50</td>\n",
       "      <td>0</td>\n",
       "    </tr>\n",
       "    <tr>\n",
       "      <th>6502</th>\n",
       "      <td>699</td>\n",
       "      <td>700</td>\n",
       "      <td>Айдар</td>\n",
       "      <td>22</td>\n",
       "      <td>Омск</td>\n",
       "      <td>free</td>\n",
       "      <td>4004.434142</td>\n",
       "      <td>20.016628</td>\n",
       "      <td>2021-02-04</td>\n",
       "      <td>2</td>\n",
       "      <td>8</td>\n",
       "      <td>50</td>\n",
       "      <td>0</td>\n",
       "    </tr>\n",
       "    <tr>\n",
       "      <th>6503</th>\n",
       "      <td>699</td>\n",
       "      <td>700</td>\n",
       "      <td>Айдар</td>\n",
       "      <td>22</td>\n",
       "      <td>Омск</td>\n",
       "      <td>free</td>\n",
       "      <td>1205.911290</td>\n",
       "      <td>9.782872</td>\n",
       "      <td>2021-02-10</td>\n",
       "      <td>2</td>\n",
       "      <td>8</td>\n",
       "      <td>50</td>\n",
       "      <td>0</td>\n",
       "    </tr>\n",
       "    <tr>\n",
       "      <th>6504</th>\n",
       "      <td>699</td>\n",
       "      <td>700</td>\n",
       "      <td>Айдар</td>\n",
       "      <td>22</td>\n",
       "      <td>Омск</td>\n",
       "      <td>free</td>\n",
       "      <td>3047.379435</td>\n",
       "      <td>17.427673</td>\n",
       "      <td>2021-02-14</td>\n",
       "      <td>2</td>\n",
       "      <td>8</td>\n",
       "      <td>50</td>\n",
       "      <td>0</td>\n",
       "    </tr>\n",
       "  </tbody>\n",
       "</table>\n",
       "</div>"
      ],
      "text/plain": [
       "      index  user_id   name  age  city subscription_type     distance  \\\n",
       "6500    699      700  Айдар   22  Омск              free  2515.690719   \n",
       "6501    699      700  Айдар   22  Омск              free   846.932642   \n",
       "6502    699      700  Айдар   22  Омск              free  4004.434142   \n",
       "6503    699      700  Айдар   22  Омск              free  1205.911290   \n",
       "6504    699      700  Айдар   22  Омск              free  3047.379435   \n",
       "\n",
       "       duration       date  month  minute_price  start_ride_price  \\\n",
       "6500  14.944286 2021-01-02      1             8                50   \n",
       "6501  16.234663 2021-02-01      2             8                50   \n",
       "6502  20.016628 2021-02-04      2             8                50   \n",
       "6503   9.782872 2021-02-10      2             8                50   \n",
       "6504  17.427673 2021-02-14      2             8                50   \n",
       "\n",
       "      subscription_fee  \n",
       "6500                 0  \n",
       "6501                 0  \n",
       "6502                 0  \n",
       "6503                 0  \n",
       "6504                 0  "
      ]
     },
     "execution_count": 25,
     "metadata": {},
     "output_type": "execute_result"
    }
   ],
   "source": [
    "# создаем таблицу с данными о пользователях без подписки\n",
    "\n",
    "user_ride_free_data = user_ride_data[user_ride_data['subscription_type'] == 'free']\n",
    "user_ride_free_data.head()"
   ]
  },
  {
   "cell_type": "code",
   "execution_count": 26,
   "id": "571aee53",
   "metadata": {},
   "outputs": [
    {
     "name": "stdout",
     "output_type": "stream",
     "text": [
      "count    11568.000000\n",
      "mean      3045.495282\n",
      "std       1246.173806\n",
      "min          0.855683\n",
      "25%       2366.562689\n",
      "50%       3114.648465\n",
      "75%       3905.697894\n",
      "max       7211.007745\n",
      "Name: distance, dtype: float64\n"
     ]
    },
    {
     "data": {
      "image/png": "[encoded data removed]",
      "text/plain": [
       "<Figure size 1000x500 with 1 Axes>"
      ]
     },
     "metadata": {},
     "output_type": "display_data"
    },
    {
     "data": {
      "text/plain": [
       "1223"
      ]
     },
     "execution_count": 26,
     "metadata": {},
     "output_type": "execute_result"
    }
   ],
   "source": [
    "# изучаем дистанцию поездок пользователей без подписки\n",
    "\n",
    "print(user_ride_free_data['distance'].describe())\n",
    "user_ride_free_data['distance'].hist(bins=150, figsize=(10,5))\n",
    "plt.title(\"Дистанция поездок пользователей без подписки\", fontsize=15)\n",
    "plt.xlabel(\"метры\", fontsize=12)\n",
    "plt.ylabel(\"число наблюдений\", fontsize=12)\n",
    "plt.show()\n",
    "user_ride_free_data['distance'][user_ride_free_data['distance'] < 1200].count()"
   ]
  },
  {
   "cell_type": "markdown",
   "id": "e27dc29e",
   "metadata": {},
   "source": [
    "Мы уже рассматривали график дистанции поездок выше, этот график с ним схож. Мы снова видим подъем около 700, \"волна\" от 0 до 1000 метром, на отметке 1,5 км спад до 25. Основной объем значений находится между 2300 и 4000 метров, то же самое можно увидеть в выводе описательной статистики, в значениях квартилей. После отметки в 4,8км частота не понимается выше 100. "
   ]
  },
  {
   "cell_type": "code",
   "execution_count": 27,
   "id": "c168b492",
   "metadata": {},
   "outputs": [
    {
     "name": "stdout",
     "output_type": "stream",
     "text": [
      "count    11568.000000\n",
      "mean        17.390909\n",
      "std          6.326803\n",
      "min          0.500000\n",
      "25%         12.958437\n",
      "50%         17.326890\n",
      "75%         21.594071\n",
      "max         34.948498\n",
      "Name: duration, dtype: float64\n"
     ]
    },
    {
     "data": {
      "image/png": "[encoded data removed]",
      "text/plain": [
       "<Figure size 900x500 with 1 Axes>"
      ]
     },
     "metadata": {},
     "output_type": "display_data"
    }
   ],
   "source": [
    "print(user_ride_free_data['duration'].describe())\n",
    "user_ride_free_data['duration'].hist(bins=100, figsize=(9,5))\n",
    "plt.title(\"Длительность поездок пользователей без подписки в минутах\", fontsize=15)\n",
    "plt.xlabel(\"минуты\", fontsize=12)\n",
    "plt.ylabel(\"число наблюдений\", fontsize=12)\n",
    "plt.show()"
   ]
  },
  {
   "cell_type": "markdown",
   "id": "5d2446d9",
   "metadata": {},
   "source": [
    "На графике мы видим пик около 0 минут, такой же пик был на графике продолжительности поездок выше, где пользователи еще не были разделены по подпискам. Основной объем значений лежит между отметками 12 и 21. Форма графика похожа на нормальное распределение, среднее и медиана равны, что также указывает на это. "
   ]
  },
  {
   "cell_type": "code",
   "execution_count": 28,
   "id": "86536576",
   "metadata": {},
   "outputs": [
    {
     "data": {
      "text/html": [
       "<div>\n",
       "<style scoped>\n",
       "    .dataframe tbody tr th:only-of-type {\n",
       "        vertical-align: middle;\n",
       "    }\n",
       "\n",
       "    .dataframe tbody tr th {\n",
       "        vertical-align: top;\n",
       "    }\n",
       "\n",
       "    .dataframe thead th {\n",
       "        text-align: right;\n",
       "    }\n",
       "</style>\n",
       "<table border=\"1\" class=\"dataframe\">\n",
       "  <thead>\n",
       "    <tr style=\"text-align: right;\">\n",
       "      <th></th>\n",
       "      <th>index</th>\n",
       "      <th>user_id</th>\n",
       "      <th>name</th>\n",
       "      <th>age</th>\n",
       "      <th>city</th>\n",
       "      <th>subscription_type</th>\n",
       "      <th>distance</th>\n",
       "      <th>duration</th>\n",
       "      <th>date</th>\n",
       "      <th>month</th>\n",
       "      <th>minute_price</th>\n",
       "      <th>start_ride_price</th>\n",
       "      <th>subscription_fee</th>\n",
       "    </tr>\n",
       "  </thead>\n",
       "  <tbody>\n",
       "    <tr>\n",
       "      <th>0</th>\n",
       "      <td>0</td>\n",
       "      <td>1</td>\n",
       "      <td>Кира</td>\n",
       "      <td>22</td>\n",
       "      <td>Тюмень</td>\n",
       "      <td>ultra</td>\n",
       "      <td>4409.919140</td>\n",
       "      <td>25.599769</td>\n",
       "      <td>2021-01-01</td>\n",
       "      <td>1</td>\n",
       "      <td>6</td>\n",
       "      <td>0</td>\n",
       "      <td>199</td>\n",
       "    </tr>\n",
       "    <tr>\n",
       "      <th>1</th>\n",
       "      <td>0</td>\n",
       "      <td>1</td>\n",
       "      <td>Кира</td>\n",
       "      <td>22</td>\n",
       "      <td>Тюмень</td>\n",
       "      <td>ultra</td>\n",
       "      <td>2617.592153</td>\n",
       "      <td>15.816871</td>\n",
       "      <td>2021-01-18</td>\n",
       "      <td>1</td>\n",
       "      <td>6</td>\n",
       "      <td>0</td>\n",
       "      <td>199</td>\n",
       "    </tr>\n",
       "    <tr>\n",
       "      <th>2</th>\n",
       "      <td>0</td>\n",
       "      <td>1</td>\n",
       "      <td>Кира</td>\n",
       "      <td>22</td>\n",
       "      <td>Тюмень</td>\n",
       "      <td>ultra</td>\n",
       "      <td>754.159807</td>\n",
       "      <td>6.232113</td>\n",
       "      <td>2021-04-20</td>\n",
       "      <td>4</td>\n",
       "      <td>6</td>\n",
       "      <td>0</td>\n",
       "      <td>199</td>\n",
       "    </tr>\n",
       "    <tr>\n",
       "      <th>3</th>\n",
       "      <td>0</td>\n",
       "      <td>1</td>\n",
       "      <td>Кира</td>\n",
       "      <td>22</td>\n",
       "      <td>Тюмень</td>\n",
       "      <td>ultra</td>\n",
       "      <td>2694.783254</td>\n",
       "      <td>18.511000</td>\n",
       "      <td>2021-08-11</td>\n",
       "      <td>8</td>\n",
       "      <td>6</td>\n",
       "      <td>0</td>\n",
       "      <td>199</td>\n",
       "    </tr>\n",
       "    <tr>\n",
       "      <th>4</th>\n",
       "      <td>0</td>\n",
       "      <td>1</td>\n",
       "      <td>Кира</td>\n",
       "      <td>22</td>\n",
       "      <td>Тюмень</td>\n",
       "      <td>ultra</td>\n",
       "      <td>4028.687306</td>\n",
       "      <td>26.265803</td>\n",
       "      <td>2021-08-28</td>\n",
       "      <td>8</td>\n",
       "      <td>6</td>\n",
       "      <td>0</td>\n",
       "      <td>199</td>\n",
       "    </tr>\n",
       "  </tbody>\n",
       "</table>\n",
       "</div>"
      ],
      "text/plain": [
       "   index  user_id  name  age    city subscription_type     distance  \\\n",
       "0      0        1  Кира   22  Тюмень             ultra  4409.919140   \n",
       "1      0        1  Кира   22  Тюмень             ultra  2617.592153   \n",
       "2      0        1  Кира   22  Тюмень             ultra   754.159807   \n",
       "3      0        1  Кира   22  Тюмень             ultra  2694.783254   \n",
       "4      0        1  Кира   22  Тюмень             ultra  4028.687306   \n",
       "\n",
       "    duration       date  month  minute_price  start_ride_price  \\\n",
       "0  25.599769 2021-01-01      1             6                 0   \n",
       "1  15.816871 2021-01-18      1             6                 0   \n",
       "2   6.232113 2021-04-20      4             6                 0   \n",
       "3  18.511000 2021-08-11      8             6                 0   \n",
       "4  26.265803 2021-08-28      8             6                 0   \n",
       "\n",
       "   subscription_fee  \n",
       "0               199  \n",
       "1               199  \n",
       "2               199  \n",
       "3               199  \n",
       "4               199  "
      ]
     },
     "execution_count": 28,
     "metadata": {},
     "output_type": "execute_result"
    }
   ],
   "source": [
    "# создаем таблицу с данными о пользователях с подпиской\n",
    "\n",
    "user_ride_ultra_data = user_ride_data[user_ride_data['subscription_type'] == 'ultra']\n",
    "user_ride_ultra_data.head()"
   ]
  },
  {
   "cell_type": "code",
   "execution_count": 29,
   "id": "f8a255c9",
   "metadata": {},
   "outputs": [
    {
     "name": "stdout",
     "output_type": "stream",
     "text": [
      "count    6500.000000\n",
      "mean     3115.445388\n",
      "std       836.895330\n",
      "min       244.210438\n",
      "25%      2785.444017\n",
      "50%      3148.637229\n",
      "75%      3560.574425\n",
      "max      5699.769662\n",
      "Name: distance, dtype: float64\n"
     ]
    },
    {
     "data": {
      "image/png": "[encoded data removed]",
      "text/plain": [
       "<Figure size 1000x500 with 1 Axes>"
      ]
     },
     "metadata": {},
     "output_type": "display_data"
    },
    {
     "data": {
      "text/plain": [
       "368"
      ]
     },
     "execution_count": 29,
     "metadata": {},
     "output_type": "execute_result"
    }
   ],
   "source": [
    "# выводим описательную статистику и график для дистанции поездок пользователей с подписками\n",
    "\n",
    "print(user_ride_ultra_data['distance'].describe())\n",
    "user_ride_ultra_data['distance'].hist(bins=150, figsize=(10,5))\n",
    "plt.title(\"Дистанция поездок пользователей с подпиской\", fontsize=15)\n",
    "plt.xlabel(\"метры\", fontsize=12)\n",
    "plt.ylabel(\"число наблюдений\", fontsize=12)\n",
    "plt.show()\n",
    "user_ride_ultra_data['distance'][user_ride_ultra_data['distance'] < 1200].count()"
   ]
  },
  {
   "cell_type": "markdown",
   "id": "0ce85c44",
   "metadata": {},
   "source": [
    "У \"подписчиков\" также есть небольшой всплеск около 1000 метров, но частота значений здесь намного ниже, чем у пользователей без подписки. Мы видим на графике еще два пика. Самый высокий около 3100 метров, где частота достигает почти 300, второй на отметке 4000 метров, где максимальный показатель частоты равен 100. Основной объем значений находится между отметками 2500 и 3700 метров. После второго пика на 4 км, частота быстро снижается."
   ]
  },
  {
   "cell_type": "code",
   "execution_count": 30,
   "id": "f2940b83",
   "metadata": {},
   "outputs": [
    {
     "name": "stdout",
     "output_type": "stream",
     "text": [
      "count    6500.000000\n",
      "mean       18.541985\n",
      "std         5.572048\n",
      "min         3.760353\n",
      "25%        14.524654\n",
      "50%        18.178153\n",
      "75%        21.884129\n",
      "max        40.823963\n",
      "Name: duration, dtype: float64\n"
     ]
    },
    {
     "data": {
      "image/png": "[encoded data removed]",
      "text/plain": [
       "<Figure size 1000x500 with 1 Axes>"
      ]
     },
     "metadata": {},
     "output_type": "display_data"
    }
   ],
   "source": [
    "# выводим описательную статистику и график для продолжительности поездок пользователей с подписками\n",
    "\n",
    "\n",
    "print(user_ride_ultra_data['duration'].describe())\n",
    "user_ride_ultra_data['duration'].hist(bins=150, figsize=(10,5))\n",
    "plt.title(\"Длительность поездок пользователей с подпискойв минутах\", fontsize=15)\n",
    "plt.xlabel(\"минуты\", fontsize=12)\n",
    "plt.ylabel(\"число наблюдений\", fontsize=12)\n",
    "plt.show()"
   ]
  },
  {
   "cell_type": "markdown",
   "id": "6e8ee7f7",
   "metadata": {},
   "source": [
    "Этот график также похож на нормальное распределение, хотя отличие медианы от среднее чуть больше, чем в других случаях. Основной объем значений лежит между 14 и 22, это видно из описательной статистики (первый и последний квартили), а также на графике. Поездок более 30 минут почти нет (частота таких поездок ниже 20)."
   ]
  },
  {
   "cell_type": "markdown",
   "id": "20508c91",
   "metadata": {},
   "source": [
    "**Вывод к разделу** \n",
    "\n",
    "Мы объединили все данные в один датафрейм, также создали два более мелких, чтобы разделить пользователей с подпиской и без нее и проанализировали два параметра для каждой группы. Этими параметрами являются время поездки и ее дистанция. Для анализа этих параметров были выведены описательные статистики и построены графики. Время и расстояние поездок для двух групп пользователей действительно отличаются.\n",
    "\n",
    "1. Пользователи без подписки чаще совершают поездки до 1,5 км, чем пользователи с подпиской. На гистограмме для всех пользователей мы видели, что есть небольшой подъем на отрезке 0 - 1200 метров (примерно), где показатель частоты достигает примерно 75. На графике пользователей без подписки показатель частоты такой же, а у подписчиков частота поездок на расстояние до 1200 метров в наивысшей точке достигает 25. \n",
    "\n",
    "Вывод: пользователи без подписки чаще, чем пользователи с подпиской, берут самокат для короткой поездки (до 1200 метров).\n",
    "\n",
    "2. На графиках длительности поездок также есть различие. На гистограмме пользователей без подписки есть пик около 0 до значения частоты почти 100, на графике пользователей с подпиской такого нет. Причин таких коротких поездок может быть много. Например, человек не смог разобраться с интерфейсом, логично предположить, что пользователь без подписки не так часто берет самокат и хуже знаком с ним и приложением. Или это была вообще первая поездка человека. Могли быть и какие-то случайности. Человек не разобрался, как ездить на самокате или побоялся не справиться с управлением на оживленной улице. \n"
   ]
  },
  {
   "cell_type": "markdown",
   "id": "ee0ec380",
   "metadata": {},
   "source": [
    "#### Шаг 5. Подсчёт выручки"
   ]
  },
  {
   "cell_type": "markdown",
   "id": "8533ed35",
   "metadata": {},
   "source": [
    "Создадим общий датафрейм, где укажем всю доступную информацию для конкретного пользователя по месяцам"
   ]
  },
  {
   "cell_type": "code",
   "execution_count": 31,
   "id": "3619c744",
   "metadata": {},
   "outputs": [
    {
     "data": {
      "text/html": [
       "<div>\n",
       "<style scoped>\n",
       "    .dataframe tbody tr th:only-of-type {\n",
       "        vertical-align: middle;\n",
       "    }\n",
       "\n",
       "    .dataframe tbody tr th {\n",
       "        vertical-align: top;\n",
       "    }\n",
       "\n",
       "    .dataframe thead th {\n",
       "        text-align: right;\n",
       "    }\n",
       "</style>\n",
       "<table border=\"1\" class=\"dataframe\">\n",
       "  <thead>\n",
       "    <tr style=\"text-align: right;\">\n",
       "      <th></th>\n",
       "      <th></th>\n",
       "      <th>distance</th>\n",
       "      <th>duration</th>\n",
       "      <th>minute_price</th>\n",
       "      <th>name</th>\n",
       "      <th>start_ride_price</th>\n",
       "      <th>subscription_fee</th>\n",
       "      <th>subscription_type</th>\n",
       "    </tr>\n",
       "    <tr>\n",
       "      <th>user_id</th>\n",
       "      <th>month</th>\n",
       "      <th></th>\n",
       "      <th></th>\n",
       "      <th></th>\n",
       "      <th></th>\n",
       "      <th></th>\n",
       "      <th></th>\n",
       "      <th></th>\n",
       "    </tr>\n",
       "  </thead>\n",
       "  <tbody>\n",
       "    <tr>\n",
       "      <th rowspan=\"6\" valign=\"top\">1</th>\n",
       "      <th>1</th>\n",
       "      <td>7028.0</td>\n",
       "      <td>42.0</td>\n",
       "      <td>6</td>\n",
       "      <td>2</td>\n",
       "      <td>0</td>\n",
       "      <td>199</td>\n",
       "      <td>ultra</td>\n",
       "    </tr>\n",
       "    <tr>\n",
       "      <th>4</th>\n",
       "      <td>755.0</td>\n",
       "      <td>7.0</td>\n",
       "      <td>6</td>\n",
       "      <td>1</td>\n",
       "      <td>0</td>\n",
       "      <td>199</td>\n",
       "      <td>ultra</td>\n",
       "    </tr>\n",
       "    <tr>\n",
       "      <th>8</th>\n",
       "      <td>6724.0</td>\n",
       "      <td>46.0</td>\n",
       "      <td>6</td>\n",
       "      <td>2</td>\n",
       "      <td>0</td>\n",
       "      <td>199</td>\n",
       "      <td>ultra</td>\n",
       "    </tr>\n",
       "    <tr>\n",
       "      <th>10</th>\n",
       "      <td>5811.0</td>\n",
       "      <td>32.0</td>\n",
       "      <td>6</td>\n",
       "      <td>2</td>\n",
       "      <td>0</td>\n",
       "      <td>199</td>\n",
       "      <td>ultra</td>\n",
       "    </tr>\n",
       "    <tr>\n",
       "      <th>11</th>\n",
       "      <td>7005.0</td>\n",
       "      <td>56.0</td>\n",
       "      <td>6</td>\n",
       "      <td>3</td>\n",
       "      <td>0</td>\n",
       "      <td>199</td>\n",
       "      <td>ultra</td>\n",
       "    </tr>\n",
       "    <tr>\n",
       "      <th>12</th>\n",
       "      <td>6753.0</td>\n",
       "      <td>28.0</td>\n",
       "      <td>6</td>\n",
       "      <td>2</td>\n",
       "      <td>0</td>\n",
       "      <td>199</td>\n",
       "      <td>ultra</td>\n",
       "    </tr>\n",
       "    <tr>\n",
       "      <th rowspan=\"7\" valign=\"top\">2</th>\n",
       "      <th>3</th>\n",
       "      <td>10190.0</td>\n",
       "      <td>63.0</td>\n",
       "      <td>6</td>\n",
       "      <td>3</td>\n",
       "      <td>0</td>\n",
       "      <td>199</td>\n",
       "      <td>ultra</td>\n",
       "    </tr>\n",
       "    <tr>\n",
       "      <th>4</th>\n",
       "      <td>6165.0</td>\n",
       "      <td>40.0</td>\n",
       "      <td>6</td>\n",
       "      <td>2</td>\n",
       "      <td>0</td>\n",
       "      <td>199</td>\n",
       "      <td>ultra</td>\n",
       "    </tr>\n",
       "    <tr>\n",
       "      <th>6</th>\n",
       "      <td>3256.0</td>\n",
       "      <td>14.0</td>\n",
       "      <td>6</td>\n",
       "      <td>1</td>\n",
       "      <td>0</td>\n",
       "      <td>199</td>\n",
       "      <td>ultra</td>\n",
       "    </tr>\n",
       "    <tr>\n",
       "      <th>7</th>\n",
       "      <td>6781.0</td>\n",
       "      <td>48.0</td>\n",
       "      <td>6</td>\n",
       "      <td>2</td>\n",
       "      <td>0</td>\n",
       "      <td>199</td>\n",
       "      <td>ultra</td>\n",
       "    </tr>\n",
       "    <tr>\n",
       "      <th>8</th>\n",
       "      <td>924.0</td>\n",
       "      <td>7.0</td>\n",
       "      <td>6</td>\n",
       "      <td>1</td>\n",
       "      <td>0</td>\n",
       "      <td>199</td>\n",
       "      <td>ultra</td>\n",
       "    </tr>\n",
       "    <tr>\n",
       "      <th>10</th>\n",
       "      <td>2825.0</td>\n",
       "      <td>19.0</td>\n",
       "      <td>6</td>\n",
       "      <td>1</td>\n",
       "      <td>0</td>\n",
       "      <td>199</td>\n",
       "      <td>ultra</td>\n",
       "    </tr>\n",
       "    <tr>\n",
       "      <th>12</th>\n",
       "      <td>3829.0</td>\n",
       "      <td>12.0</td>\n",
       "      <td>6</td>\n",
       "      <td>1</td>\n",
       "      <td>0</td>\n",
       "      <td>199</td>\n",
       "      <td>ultra</td>\n",
       "    </tr>\n",
       "    <tr>\n",
       "      <th rowspan=\"2\" valign=\"top\">3</th>\n",
       "      <th>1</th>\n",
       "      <td>3062.0</td>\n",
       "      <td>13.0</td>\n",
       "      <td>6</td>\n",
       "      <td>1</td>\n",
       "      <td>0</td>\n",
       "      <td>199</td>\n",
       "      <td>ultra</td>\n",
       "    </tr>\n",
       "    <tr>\n",
       "      <th>2</th>\n",
       "      <td>5422.0</td>\n",
       "      <td>39.0</td>\n",
       "      <td>6</td>\n",
       "      <td>2</td>\n",
       "      <td>0</td>\n",
       "      <td>199</td>\n",
       "      <td>ultra</td>\n",
       "    </tr>\n",
       "  </tbody>\n",
       "</table>\n",
       "</div>"
      ],
      "text/plain": [
       "               distance  duration  minute_price  name  start_ride_price  \\\n",
       "user_id month                                                             \n",
       "1       1        7028.0      42.0             6     2                 0   \n",
       "        4         755.0       7.0             6     1                 0   \n",
       "        8        6724.0      46.0             6     2                 0   \n",
       "        10       5811.0      32.0             6     2                 0   \n",
       "        11       7005.0      56.0             6     3                 0   \n",
       "        12       6753.0      28.0             6     2                 0   \n",
       "2       3       10190.0      63.0             6     3                 0   \n",
       "        4        6165.0      40.0             6     2                 0   \n",
       "        6        3256.0      14.0             6     1                 0   \n",
       "        7        6781.0      48.0             6     2                 0   \n",
       "        8         924.0       7.0             6     1                 0   \n",
       "        10       2825.0      19.0             6     1                 0   \n",
       "        12       3829.0      12.0             6     1                 0   \n",
       "3       1        3062.0      13.0             6     1                 0   \n",
       "        2        5422.0      39.0             6     2                 0   \n",
       "\n",
       "               subscription_fee subscription_type  \n",
       "user_id month                                      \n",
       "1       1                   199             ultra  \n",
       "        4                   199             ultra  \n",
       "        8                   199             ultra  \n",
       "        10                  199             ultra  \n",
       "        11                  199             ultra  \n",
       "        12                  199             ultra  \n",
       "2       3                   199             ultra  \n",
       "        4                   199             ultra  \n",
       "        6                   199             ultra  \n",
       "        7                   199             ultra  \n",
       "        8                   199             ultra  \n",
       "        10                  199             ultra  \n",
       "        12                  199             ultra  \n",
       "3       1                   199             ultra  \n",
       "        2                   199             ultra  "
      ]
     },
     "execution_count": 31,
     "metadata": {},
     "output_type": "execute_result"
    }
   ],
   "source": [
    "# округляем значения времени и расстояния в большую сторону до целого\n",
    "\n",
    "user_ride_data['duration'] = np.ceil(user_ride_data['duration']) \n",
    "user_ride_data['distance'] = np.ceil(user_ride_data['distance'])\n",
    "\n",
    "# создаем сводную таблицу, где за основные категории берем id пользователей, \n",
    "# а суб-категориями являются номера месяцев, в которые совершены поездки.\n",
    "\n",
    "money_users_data = user_ride_data.pivot_table(\n",
    "    index=['user_id','month'],\n",
    "    values=['duration', 'distance','name', 'start_ride_price','subscription_fee','subscription_type','minute_price'], \n",
    "    aggfunc={'duration':'sum', 'distance':'sum', 'name':'count', \n",
    "            'start_ride_price':'max','subscription_fee':'max','subscription_type':'max','minute_price':'max'} )\n",
    "\n",
    "money_users_data.head(15)"
   ]
  },
  {
   "cell_type": "markdown",
   "id": "2d67827b",
   "metadata": {},
   "source": [
    "5.2 В этот же датафрейм добавьте столбец с помесячной выручкой, которую принёс каждый пользователь. Для этого обратитесь к информации об условиях оплаты для подписчиков и тех, у кого нет подписки. Продолжительность каждой поездки в каждой строке исходного датафрейма для подсчёта стоимости округляется до следующего целого числа: например, значения 25.3, 25.5 и 26.0 должны быть преобразованы к 26."
   ]
  },
  {
   "cell_type": "code",
   "execution_count": 32,
   "id": "cbbf7a99",
   "metadata": {},
   "outputs": [
    {
     "data": {
      "text/html": [
       "<div>\n",
       "<style scoped>\n",
       "    .dataframe tbody tr th:only-of-type {\n",
       "        vertical-align: middle;\n",
       "    }\n",
       "\n",
       "    .dataframe tbody tr th {\n",
       "        vertical-align: top;\n",
       "    }\n",
       "\n",
       "    .dataframe thead th {\n",
       "        text-align: right;\n",
       "    }\n",
       "</style>\n",
       "<table border=\"1\" class=\"dataframe\">\n",
       "  <thead>\n",
       "    <tr style=\"text-align: right;\">\n",
       "      <th></th>\n",
       "      <th></th>\n",
       "      <th>distance</th>\n",
       "      <th>duration</th>\n",
       "      <th>minute_price</th>\n",
       "      <th>name</th>\n",
       "      <th>start_ride_price</th>\n",
       "      <th>subscription_fee</th>\n",
       "      <th>subscription_type</th>\n",
       "      <th>revenue</th>\n",
       "    </tr>\n",
       "    <tr>\n",
       "      <th>user_id</th>\n",
       "      <th>month</th>\n",
       "      <th></th>\n",
       "      <th></th>\n",
       "      <th></th>\n",
       "      <th></th>\n",
       "      <th></th>\n",
       "      <th></th>\n",
       "      <th></th>\n",
       "      <th></th>\n",
       "    </tr>\n",
       "  </thead>\n",
       "  <tbody>\n",
       "    <tr>\n",
       "      <th rowspan=\"6\" valign=\"top\">1</th>\n",
       "      <th>1</th>\n",
       "      <td>7028.0</td>\n",
       "      <td>42.0</td>\n",
       "      <td>6</td>\n",
       "      <td>2</td>\n",
       "      <td>0</td>\n",
       "      <td>199</td>\n",
       "      <td>ultra</td>\n",
       "      <td>451.0</td>\n",
       "    </tr>\n",
       "    <tr>\n",
       "      <th>4</th>\n",
       "      <td>755.0</td>\n",
       "      <td>7.0</td>\n",
       "      <td>6</td>\n",
       "      <td>1</td>\n",
       "      <td>0</td>\n",
       "      <td>199</td>\n",
       "      <td>ultra</td>\n",
       "      <td>241.0</td>\n",
       "    </tr>\n",
       "    <tr>\n",
       "      <th>8</th>\n",
       "      <td>6724.0</td>\n",
       "      <td>46.0</td>\n",
       "      <td>6</td>\n",
       "      <td>2</td>\n",
       "      <td>0</td>\n",
       "      <td>199</td>\n",
       "      <td>ultra</td>\n",
       "      <td>475.0</td>\n",
       "    </tr>\n",
       "    <tr>\n",
       "      <th>10</th>\n",
       "      <td>5811.0</td>\n",
       "      <td>32.0</td>\n",
       "      <td>6</td>\n",
       "      <td>2</td>\n",
       "      <td>0</td>\n",
       "      <td>199</td>\n",
       "      <td>ultra</td>\n",
       "      <td>391.0</td>\n",
       "    </tr>\n",
       "    <tr>\n",
       "      <th>11</th>\n",
       "      <td>7005.0</td>\n",
       "      <td>56.0</td>\n",
       "      <td>6</td>\n",
       "      <td>3</td>\n",
       "      <td>0</td>\n",
       "      <td>199</td>\n",
       "      <td>ultra</td>\n",
       "      <td>535.0</td>\n",
       "    </tr>\n",
       "    <tr>\n",
       "      <th>12</th>\n",
       "      <td>6753.0</td>\n",
       "      <td>28.0</td>\n",
       "      <td>6</td>\n",
       "      <td>2</td>\n",
       "      <td>0</td>\n",
       "      <td>199</td>\n",
       "      <td>ultra</td>\n",
       "      <td>367.0</td>\n",
       "    </tr>\n",
       "    <tr>\n",
       "      <th rowspan=\"4\" valign=\"top\">2</th>\n",
       "      <th>3</th>\n",
       "      <td>10190.0</td>\n",
       "      <td>63.0</td>\n",
       "      <td>6</td>\n",
       "      <td>3</td>\n",
       "      <td>0</td>\n",
       "      <td>199</td>\n",
       "      <td>ultra</td>\n",
       "      <td>577.0</td>\n",
       "    </tr>\n",
       "    <tr>\n",
       "      <th>4</th>\n",
       "      <td>6165.0</td>\n",
       "      <td>40.0</td>\n",
       "      <td>6</td>\n",
       "      <td>2</td>\n",
       "      <td>0</td>\n",
       "      <td>199</td>\n",
       "      <td>ultra</td>\n",
       "      <td>439.0</td>\n",
       "    </tr>\n",
       "    <tr>\n",
       "      <th>6</th>\n",
       "      <td>3256.0</td>\n",
       "      <td>14.0</td>\n",
       "      <td>6</td>\n",
       "      <td>1</td>\n",
       "      <td>0</td>\n",
       "      <td>199</td>\n",
       "      <td>ultra</td>\n",
       "      <td>283.0</td>\n",
       "    </tr>\n",
       "    <tr>\n",
       "      <th>7</th>\n",
       "      <td>6781.0</td>\n",
       "      <td>48.0</td>\n",
       "      <td>6</td>\n",
       "      <td>2</td>\n",
       "      <td>0</td>\n",
       "      <td>199</td>\n",
       "      <td>ultra</td>\n",
       "      <td>487.0</td>\n",
       "    </tr>\n",
       "  </tbody>\n",
       "</table>\n",
       "</div>"
      ],
      "text/plain": [
       "               distance  duration  minute_price  name  start_ride_price  \\\n",
       "user_id month                                                             \n",
       "1       1        7028.0      42.0             6     2                 0   \n",
       "        4         755.0       7.0             6     1                 0   \n",
       "        8        6724.0      46.0             6     2                 0   \n",
       "        10       5811.0      32.0             6     2                 0   \n",
       "        11       7005.0      56.0             6     3                 0   \n",
       "        12       6753.0      28.0             6     2                 0   \n",
       "2       3       10190.0      63.0             6     3                 0   \n",
       "        4        6165.0      40.0             6     2                 0   \n",
       "        6        3256.0      14.0             6     1                 0   \n",
       "        7        6781.0      48.0             6     2                 0   \n",
       "\n",
       "               subscription_fee subscription_type  revenue  \n",
       "user_id month                                               \n",
       "1       1                   199             ultra    451.0  \n",
       "        4                   199             ultra    241.0  \n",
       "        8                   199             ultra    475.0  \n",
       "        10                  199             ultra    391.0  \n",
       "        11                  199             ultra    535.0  \n",
       "        12                  199             ultra    367.0  \n",
       "2       3                   199             ultra    577.0  \n",
       "        4                   199             ultra    439.0  \n",
       "        6                   199             ultra    283.0  \n",
       "        7                   199             ultra    487.0  "
      ]
     },
     "execution_count": 32,
     "metadata": {},
     "output_type": "execute_result"
    }
   ],
   "source": [
    "# добавляем столбец с месячной выручкой, использую для ее подсчета формулу\n",
    "\n",
    "money_users_data['revenue'] = money_users_data['start_ride_price'] * money_users_data['name'] + \\\n",
    "money_users_data['minute_price'] * money_users_data['duration'] + money_users_data['subscription_fee']\n",
    "money_users_data.head(10)"
   ]
  },
  {
   "cell_type": "markdown",
   "id": "241798b6",
   "metadata": {},
   "source": [
    "На этом этапе мы агрегировали данные в единый датафрейм, на основе которого далее сможем проверять гипотезы, а также добавили расчеты помесячной выручки от каждого пользователя."
   ]
  },
  {
   "cell_type": "markdown",
   "id": "2bb5eb5a",
   "metadata": {},
   "source": [
    "#### Шаг 6. Проверка гипотез"
   ]
  },
  {
   "cell_type": "markdown",
   "id": "e8be1e3f",
   "metadata": {},
   "source": [
    "**Задание 6.1**\n",
    "\n",
    "Важно понять, тратят ли пользователи с подпиской больше времени на поездки? Если да, то пользователи с подпиской могут быть «выгоднее» для компании. Проверьте гипотезу. Используйте исходные данные о продолжительности каждой сессии — отдельно для подписчиков и тех, у кого нет подписки."
   ]
  },
  {
   "cell_type": "markdown",
   "id": "23d65e1e",
   "metadata": {},
   "source": [
    "**Нулевая гипотеза**: Среднее время поездки пользователей с подпиской равно среднему времени поездки пользователей без подписки\n",
    "\n",
    "**Альтернативная гипотеза** : Среднее время поездки пользователей с подпиской больше среднего времени поездки пользователей без подписки"
   ]
  },
  {
   "cell_type": "code",
   "execution_count": 33,
   "id": "f984714b",
   "metadata": {},
   "outputs": [
    {
     "name": "stdout",
     "output_type": "stream",
     "text": [
      "p-значение: 1.2804098316645618e-34\n",
      "Нулевая гипотеза отвергается\n",
      "\n"
     ]
    }
   ],
   "source": [
    "alpha = 0.05\n",
    "\n",
    "result_1 = st.ttest_ind(user_ride_ultra_data['duration'], user_ride_free_data['duration'], alternative='greater', \n",
    "                        equal_var=True)\n",
    "\n",
    "print('p-значение:', result_1.pvalue)\n",
    "if result_1.pvalue < alpha:\n",
    "    print('Нулевая гипотеза отвергается')\n",
    "else:\n",
    "    print('Мы не можем отвергнуть нулевую гипотезу')\n",
    "    \n",
    "print()"
   ]
  },
  {
   "cell_type": "markdown",
   "id": "066d2014",
   "metadata": {},
   "source": [
    "**Вывод**: Из расчетов мы можем сделать вывод, что среднее время поездки пользователей с подпиской неравно среднему времени поездки пользователей без подписки, а значит пользователи с подпиской могут тратить больше времени на поездки, чем пользователи без нее."
   ]
  },
  {
   "cell_type": "markdown",
   "id": "1b3227e3",
   "metadata": {},
   "source": [
    "**Задание 6.2** \n",
    "\n",
    "Расстояние одной поездки в 3130 метров — оптимальное с точки зрения износа самоката. Можно ли сказать, что расстояние, которое проезжают пользователи с подпиской за одну поездку, не превышает 3130 метров? Проверьте гипотезу и сделайте выводы."
   ]
  },
  {
   "cell_type": "markdown",
   "id": "1908ee16",
   "metadata": {},
   "source": [
    "**Нулевая гип.**: среднее расстояние, которое проезжают пользователи с подпиской за одну поездку, равно 3130 метров\n",
    "\n",
    "**Альтернативная гип.**: среднее расстояние, которое проезжают пользователи с подпиской за одну поездку, больше 3130 метров"
   ]
  },
  {
   "cell_type": "code",
   "execution_count": 34,
   "id": "9212ad94",
   "metadata": {},
   "outputs": [
    {
     "name": "stdout",
     "output_type": "stream",
     "text": [
      "p-значение: 0.9195368847849785\n",
      "Мы не можем отвергнуть нулевую гипотезу\n"
     ]
    }
   ],
   "source": [
    "distance = 3130\n",
    "\n",
    "alpha = 0.05\n",
    "result_2 = st.ttest_1samp(user_ride_ultra_data['distance'], distance, alternative='greater')\n",
    "\n",
    "print('p-значение:', result_2.pvalue)\n",
    "if result_2.pvalue < alpha:\n",
    "    print('Нулевая гипотеза отвергается')\n",
    "else:\n",
    "    print('Мы не можем отвергнуть нулевую гипотезу')"
   ]
  },
  {
   "cell_type": "markdown",
   "id": "091a88aa",
   "metadata": {},
   "source": [
    "Исходя из полученных результатов, мы не можем отвергнуть гипотезу о средней дистанции поездки пользователей с подпиской в 3130 метров. Если вспомнить ранее полученный график, то он скорее говорит в пользу этой гипотезы, также, как и описательная статистика, в которой среднее равнялось 3115 метрам. "
   ]
  },
  {
   "cell_type": "markdown",
   "id": "92ce234f",
   "metadata": {},
   "source": [
    "**Задание 6.3.**\n",
    "\n",
    "Проверьте гипотезу о том, будет ли помесячная выручка от пользователей с подпиской по месяцам выше, чем выручка от пользователей без подписки. Сделайте вывод."
   ]
  },
  {
   "cell_type": "markdown",
   "id": "6d399e21",
   "metadata": {},
   "source": [
    "**Нулевая гипотеза**: Средняя выручка от пользователей с подпиской равна выручке от пользователей без подписки.\n",
    "\n",
    "**Альтернативная гипотеза** : Средняя выручка от пользователей с подпиской больше средней выручки от пользователей без подписки."
   ]
  },
  {
   "cell_type": "code",
   "execution_count": 35,
   "id": "3c6f0549",
   "metadata": {},
   "outputs": [
    {
     "name": "stdout",
     "output_type": "stream",
     "text": [
      "p-значение: 1.8850394384715216e-31\n",
      "Нулевая гипотеза отвергается\n",
      "Среднее значение выручки оттпользователей с платной подпиской 362.7921906022502\n",
      "Среднее значение выручки от пользователей без подписки 328.6413651073845\n"
     ]
    }
   ],
   "source": [
    "revenue_ultra = money_users_data[money_users_data['subscription_type'] == 'ultra']\n",
    "revenue_free = money_users_data[money_users_data['subscription_type'] == 'free']\n",
    "\n",
    "alpha = 0.05\n",
    "result_3 = st.ttest_ind(revenue_ultra['revenue'], revenue_free['revenue'], alternative='greater')\n",
    "\n",
    "print('p-значение:', result_3.pvalue)\n",
    "if result_3.pvalue < alpha:\n",
    "    print('Нулевая гипотеза отвергается')\n",
    "else:\n",
    "    print('Мы не можем отвергнуть нулевую гипотезу')\n",
    "    \n",
    "print('Среднее значение выручки оттпользователей с платной подпиской', revenue_ultra['revenue'].mean())\n",
    "print('Среднее значение выручки от пользователей без подписки', revenue_free['revenue'].mean())"
   ]
  },
  {
   "cell_type": "markdown",
   "id": "86a7b157",
   "metadata": {},
   "source": [
    "**Вывод:** исходя из расчетов можно заключить, что выручки от двух групп пользователей не равны, пользователи с платной подпиской приносят больше денег сервису, это также видно, если сравнить значения средних выручек. "
   ]
  },
  {
   "cell_type": "markdown",
   "id": "39c7563c",
   "metadata": {},
   "source": [
    "6.4. Представьте такую ситуацию: техническая команда сервиса обновила сервера, с которыми взаимодействует мобильное приложение. Она надеется, что из-за этого количество обращений в техподдержку значимо снизилось. Некоторый файл содержит для каждого пользователя данные о количестве обращений до обновления и после него. Какой тест вам понадобился бы для проверки этой гипотезы?"
   ]
  },
  {
   "cell_type": "markdown",
   "id": "0397fdc7",
   "metadata": {},
   "source": [
    "В данной ситуации мы должны использовать тест для зависимых (парных) выборок. Такие выборки содержат данные до и после изменения конкретной переменной, которую анализируют. Чтобы проверить гипотезу о равенстве среднего генеральной совокупности для зависимых  выборок в Python, используется метод scipy.stats.ttest_rel(), в аргументах которого указывают две зависимые выборки. "
   ]
  },
  {
   "cell_type": "markdown",
   "id": "616f5f2b",
   "metadata": {},
   "source": [
    "Проведя небольшое исследование, мы можем сделать несколько выводов по полученным данным. Пользователи с подпиской могут тратить больше времени на поездки, чем пользователи без нее. Мы не можем отвергнуть гипотезу о том, что среднее расстояние поездок пользователей с подпиской равно 3130. И наконец расчеты показали, что выручки от двух групп пользователей с разными типами подписки могут быть равны. "
   ]
  },
  {
   "cell_type": "markdown",
   "id": "bfb8fc7a",
   "metadata": {},
   "source": [
    "**Общий вывод**\n",
    "\n",
    "    Получив три набора данных мы сохранили их в переменных, изучили основную информацию и осуществили предобработку данных. В ходе последней были устранены дубликаты в датафрейме с информацией о пользователях, а также исправлен тип данных в столбце с датой поездки в наборе данных с информацией о поездках. Иных дубликатов или пропусков не было обнаружено.\n",
    "\n",
    "    Выведя основные значения описательной статистики и визуализировав их в гистограммах, мы смогли изучить характер распределения некоторых параментов. Самым частым городом оказался Пятигоркс - 219, а на последнем месте Москва - 168. Между ними распологаются остальные 6 городов с небольшой разницей в частоте между собой. Нельзя сказать, что какой-то город сильно выделяется по встребованности. Также и с подписками, пользователей без нее больше - 835, оплачивающих - 699, опять же не такое серьезное различие, чтобы говорить о явных предпочтениях. Вполне естественно, что \"подписчиков\" меньше, это люди, которые пользуются самокатами часто, которым подписка выгоднее. И наоборот людей, берущих самокат раз в месяц, будет больше. \n",
    "\n",
    "    Распределение пользователей по возрасту схоже с нормальным распределением. Больше всего людей от 20 до 30 лет. Средний возраст - 25 лет. Чаще всего пользователи преодолевают от 2,5 до 4 км на самокате, но есть и короткие поездки чуть более 1 км, они 3 раза чаще встречаются у клиентов без подписки. На графиках длительности поездок также есть различие. На гистограмме пользователей без подписки есть пик около 0 до значения частоты почти 100, на графике пользователей с подпиской такого нет. \n",
    "    \n",
    "    Для дальнейшего исследования потребовалось объединить все данные из 3 датафреймов, для чего была использована сводная таблица. Затем в нее был добавлен столбец с помесячой выручкой для каждого пользователя.\n",
    "    \n",
    "    Проведя небольшое исследование, в ходе которого были использованы методы библиотек pandas, matplotlib.pyplot, numpy, scipy.stats и знания о способах проверки гипотез, мы можем сделать несколько выводов по полученным данным. Пользователи с подпиской могут тратить больше времени на поездки, чем пользователи без нее. Мы не можем отвергнуть гипотезу о том, что среднее расстояние поездок пользователей с подпиской равно 3130. И наконец расчеты показали, что выручки от двух групп пользователей с разными типами подписки не равны.  "
   ]
  }
 ],
 "metadata": {
  "ExecuteTimeLog": [
   {
    "duration": 426,
    "start_time": "2023-07-06T18:49:39.785Z"
   },
   {
    "duration": 167,
    "start_time": "2023-07-06T18:49:45.573Z"
   },
   {
    "duration": 152,
    "start_time": "2023-07-06T18:51:09.675Z"
   },
   {
    "duration": 413,
    "start_time": "2023-07-06T18:51:23.784Z"
   },
   {
    "duration": 21,
    "start_time": "2023-07-06T18:51:58.586Z"
   },
   {
    "duration": 10,
    "start_time": "2023-07-06T18:52:31.233Z"
   },
   {
    "duration": 19,
    "start_time": "2023-07-06T18:52:34.559Z"
   },
   {
    "duration": 12,
    "start_time": "2023-07-06T18:53:37.182Z"
   },
   {
    "duration": 14,
    "start_time": "2023-07-06T18:54:11.546Z"
   },
   {
    "duration": 12,
    "start_time": "2023-07-06T18:54:47.326Z"
   },
   {
    "duration": 44,
    "start_time": "2023-07-07T12:12:09.482Z"
   },
   {
    "duration": 401,
    "start_time": "2023-07-07T12:12:14.272Z"
   },
   {
    "duration": 303,
    "start_time": "2023-07-07T12:12:14.675Z"
   },
   {
    "duration": 14,
    "start_time": "2023-07-07T12:12:14.980Z"
   },
   {
    "duration": 13,
    "start_time": "2023-07-07T12:12:14.996Z"
   },
   {
    "duration": 59,
    "start_time": "2023-07-07T12:12:15.011Z"
   },
   {
    "duration": 80,
    "start_time": "2023-07-07T12:12:15.071Z"
   },
   {
    "duration": 20,
    "start_time": "2023-07-07T12:12:15.153Z"
   },
   {
    "duration": 12,
    "start_time": "2023-07-07T12:12:15.174Z"
   },
   {
    "duration": 8,
    "start_time": "2023-07-07T12:12:15.188Z"
   },
   {
    "duration": 51,
    "start_time": "2023-07-07T12:12:17.112Z"
   },
   {
    "duration": 9,
    "start_time": "2023-07-07T12:16:45.209Z"
   },
   {
    "duration": 6,
    "start_time": "2023-07-07T12:19:07.022Z"
   },
   {
    "duration": 12,
    "start_time": "2023-07-07T12:21:31.081Z"
   },
   {
    "duration": 11,
    "start_time": "2023-07-07T12:25:34.232Z"
   },
   {
    "duration": 14,
    "start_time": "2023-07-07T12:25:48.209Z"
   },
   {
    "duration": 15,
    "start_time": "2023-07-07T12:26:18.274Z"
   },
   {
    "duration": 14,
    "start_time": "2023-07-07T12:26:27.938Z"
   },
   {
    "duration": 15,
    "start_time": "2023-07-07T12:27:42.881Z"
   },
   {
    "duration": 6,
    "start_time": "2023-07-07T12:29:23.269Z"
   },
   {
    "duration": 6,
    "start_time": "2023-07-07T12:29:55.549Z"
   },
   {
    "duration": 5,
    "start_time": "2023-07-07T12:35:09.082Z"
   },
   {
    "duration": 9,
    "start_time": "2023-07-07T12:36:23.590Z"
   },
   {
    "duration": 3,
    "start_time": "2023-07-07T12:37:14.350Z"
   },
   {
    "duration": 75,
    "start_time": "2023-07-07T12:37:14.355Z"
   },
   {
    "duration": 8,
    "start_time": "2023-07-07T12:37:14.432Z"
   },
   {
    "duration": 12,
    "start_time": "2023-07-07T12:37:14.442Z"
   },
   {
    "duration": 10,
    "start_time": "2023-07-07T12:37:14.456Z"
   },
   {
    "duration": 23,
    "start_time": "2023-07-07T12:37:14.467Z"
   },
   {
    "duration": 9,
    "start_time": "2023-07-07T12:37:14.492Z"
   },
   {
    "duration": 14,
    "start_time": "2023-07-07T12:37:14.503Z"
   },
   {
    "duration": 19,
    "start_time": "2023-07-07T12:37:14.519Z"
   },
   {
    "duration": 16,
    "start_time": "2023-07-07T12:37:14.540Z"
   },
   {
    "duration": 7,
    "start_time": "2023-07-07T12:37:14.558Z"
   },
   {
    "duration": 7,
    "start_time": "2023-07-07T12:37:14.567Z"
   },
   {
    "duration": 10,
    "start_time": "2023-07-07T12:37:18.641Z"
   },
   {
    "duration": 8,
    "start_time": "2023-07-07T12:37:46.394Z"
   },
   {
    "duration": 9,
    "start_time": "2023-07-07T13:01:43.665Z"
   },
   {
    "duration": 7,
    "start_time": "2023-07-07T13:01:59.905Z"
   },
   {
    "duration": 8,
    "start_time": "2023-07-07T13:02:20.216Z"
   },
   {
    "duration": 426,
    "start_time": "2023-07-07T16:32:14.954Z"
   },
   {
    "duration": 58,
    "start_time": "2023-07-07T16:32:31.637Z"
   },
   {
    "duration": 204,
    "start_time": "2023-07-07T16:32:37.348Z"
   },
   {
    "duration": 3,
    "start_time": "2023-07-07T16:32:37.554Z"
   },
   {
    "duration": 343,
    "start_time": "2023-07-07T16:32:37.559Z"
   },
   {
    "duration": 19,
    "start_time": "2023-07-07T16:32:37.904Z"
   },
   {
    "duration": 21,
    "start_time": "2023-07-07T16:32:37.926Z"
   },
   {
    "duration": 21,
    "start_time": "2023-07-07T16:32:37.949Z"
   },
   {
    "duration": 31,
    "start_time": "2023-07-07T16:32:37.972Z"
   },
   {
    "duration": 9,
    "start_time": "2023-07-07T16:32:38.006Z"
   },
   {
    "duration": 17,
    "start_time": "2023-07-07T16:32:38.016Z"
   },
   {
    "duration": 12,
    "start_time": "2023-07-07T16:32:38.035Z"
   },
   {
    "duration": 11,
    "start_time": "2023-07-07T16:32:38.048Z"
   },
   {
    "duration": 6,
    "start_time": "2023-07-07T16:32:38.061Z"
   },
   {
    "duration": 20,
    "start_time": "2023-07-07T16:32:38.069Z"
   },
   {
    "duration": 28,
    "start_time": "2023-07-07T16:32:38.091Z"
   },
   {
    "duration": 5,
    "start_time": "2023-07-07T16:32:38.121Z"
   },
   {
    "duration": 11,
    "start_time": "2023-07-07T16:32:38.128Z"
   },
   {
    "duration": 9,
    "start_time": "2023-07-07T16:32:38.141Z"
   },
   {
    "duration": 596,
    "start_time": "2023-07-07T16:32:42.587Z"
   },
   {
    "duration": 165,
    "start_time": "2023-07-07T16:34:31.593Z"
   },
   {
    "duration": 3,
    "start_time": "2023-07-07T16:37:39.252Z"
   },
   {
    "duration": 177,
    "start_time": "2023-07-07T16:37:46.466Z"
   },
   {
    "duration": 153,
    "start_time": "2023-07-07T16:38:33.660Z"
   },
   {
    "duration": 229,
    "start_time": "2023-07-07T16:46:41.624Z"
   },
   {
    "duration": 132,
    "start_time": "2023-07-07T17:05:08.264Z"
   },
   {
    "duration": 135,
    "start_time": "2023-07-07T17:05:19.027Z"
   },
   {
    "duration": 144,
    "start_time": "2023-07-07T17:06:33.539Z"
   },
   {
    "duration": 125,
    "start_time": "2023-07-07T17:08:22.353Z"
   },
   {
    "duration": 148,
    "start_time": "2023-07-07T17:32:08.692Z"
   },
   {
    "duration": 210,
    "start_time": "2023-07-07T17:32:44.232Z"
   },
   {
    "duration": 224,
    "start_time": "2023-07-07T17:33:08.760Z"
   },
   {
    "duration": 189,
    "start_time": "2023-07-07T17:33:56.630Z"
   },
   {
    "duration": 239,
    "start_time": "2023-07-07T17:34:43.537Z"
   },
   {
    "duration": 190,
    "start_time": "2023-07-07T17:34:54.917Z"
   },
   {
    "duration": 276,
    "start_time": "2023-07-07T17:35:02.728Z"
   },
   {
    "duration": 212,
    "start_time": "2023-07-07T17:46:44.756Z"
   },
   {
    "duration": 225,
    "start_time": "2023-07-07T17:47:04.399Z"
   },
   {
    "duration": 211,
    "start_time": "2023-07-07T17:47:16.577Z"
   },
   {
    "duration": 210,
    "start_time": "2023-07-07T17:47:26.609Z"
   },
   {
    "duration": 170,
    "start_time": "2023-07-07T17:47:37.728Z"
   },
   {
    "duration": 217,
    "start_time": "2023-07-07T18:00:54.836Z"
   },
   {
    "duration": 268,
    "start_time": "2023-07-07T18:01:09.733Z"
   },
   {
    "duration": 34,
    "start_time": "2023-07-07T18:28:35.233Z"
   },
   {
    "duration": 32,
    "start_time": "2023-07-07T18:29:51.713Z"
   },
   {
    "duration": 7,
    "start_time": "2023-07-07T18:33:49.377Z"
   },
   {
    "duration": 6,
    "start_time": "2023-07-07T18:33:51.428Z"
   },
   {
    "duration": 21,
    "start_time": "2023-07-07T18:34:11.457Z"
   },
   {
    "duration": 22,
    "start_time": "2023-07-07T18:34:14.178Z"
   },
   {
    "duration": 74,
    "start_time": "2023-07-08T08:59:40.837Z"
   },
   {
    "duration": 412,
    "start_time": "2023-07-08T08:59:48.245Z"
   },
   {
    "duration": 539,
    "start_time": "2023-07-08T08:59:48.669Z"
   },
   {
    "duration": 700,
    "start_time": "2023-07-08T08:59:49.210Z"
   },
   {
    "duration": 13,
    "start_time": "2023-07-08T08:59:49.912Z"
   },
   {
    "duration": 12,
    "start_time": "2023-07-08T08:59:49.926Z"
   },
   {
    "duration": 10,
    "start_time": "2023-07-08T08:59:49.939Z"
   },
   {
    "duration": 44,
    "start_time": "2023-07-08T08:59:49.951Z"
   },
   {
    "duration": 12,
    "start_time": "2023-07-08T08:59:49.998Z"
   },
   {
    "duration": 17,
    "start_time": "2023-07-08T08:59:50.012Z"
   },
   {
    "duration": 13,
    "start_time": "2023-07-08T08:59:50.033Z"
   },
   {
    "duration": 12,
    "start_time": "2023-07-08T08:59:50.047Z"
   },
   {
    "duration": 24,
    "start_time": "2023-07-08T08:59:50.061Z"
   },
   {
    "duration": 9,
    "start_time": "2023-07-08T08:59:50.087Z"
   },
   {
    "duration": 23,
    "start_time": "2023-07-08T08:59:50.098Z"
   },
   {
    "duration": 7,
    "start_time": "2023-07-08T08:59:50.123Z"
   },
   {
    "duration": 17,
    "start_time": "2023-07-08T08:59:50.132Z"
   },
   {
    "duration": 31,
    "start_time": "2023-07-08T08:59:50.151Z"
   },
   {
    "duration": 177,
    "start_time": "2023-07-08T08:59:50.184Z"
   },
   {
    "duration": 144,
    "start_time": "2023-07-08T08:59:50.362Z"
   },
   {
    "duration": 200,
    "start_time": "2023-07-08T08:59:50.508Z"
   },
   {
    "duration": 309,
    "start_time": "2023-07-08T08:59:50.710Z"
   },
   {
    "duration": 251,
    "start_time": "2023-07-08T08:59:51.021Z"
   },
   {
    "duration": 30,
    "start_time": "2023-07-08T08:59:51.276Z"
   },
   {
    "duration": 31,
    "start_time": "2023-07-08T08:59:51.308Z"
   },
   {
    "duration": 230,
    "start_time": "2023-07-08T08:59:55.608Z"
   },
   {
    "duration": 251,
    "start_time": "2023-07-08T09:00:06.604Z"
   },
   {
    "duration": 363,
    "start_time": "2023-07-08T09:00:13.958Z"
   },
   {
    "duration": 313,
    "start_time": "2023-07-08T09:00:35.742Z"
   },
   {
    "duration": 308,
    "start_time": "2023-07-08T09:01:50.119Z"
   },
   {
    "duration": 429,
    "start_time": "2023-07-08T09:02:09.110Z"
   },
   {
    "duration": 45,
    "start_time": "2023-07-08T09:07:40.036Z"
   },
   {
    "duration": 19,
    "start_time": "2023-07-08T09:07:46.271Z"
   },
   {
    "duration": 324,
    "start_time": "2023-07-08T09:07:48.800Z"
   },
   {
    "duration": 338,
    "start_time": "2023-07-08T09:10:42.632Z"
   },
   {
    "duration": 51,
    "start_time": "2023-07-08T09:36:43.026Z"
   },
   {
    "duration": 128,
    "start_time": "2023-07-08T09:48:32.322Z"
   },
   {
    "duration": 13,
    "start_time": "2023-07-08T09:48:41.518Z"
   },
   {
    "duration": 45,
    "start_time": "2023-07-08T09:49:40.442Z"
   },
   {
    "duration": 68,
    "start_time": "2023-07-08T13:37:40.603Z"
   },
   {
    "duration": 477,
    "start_time": "2023-07-08T13:37:47.729Z"
   },
   {
    "duration": 524,
    "start_time": "2023-07-08T13:37:48.209Z"
   },
   {
    "duration": 229,
    "start_time": "2023-07-08T13:37:48.740Z"
   },
   {
    "duration": 13,
    "start_time": "2023-07-08T13:37:48.971Z"
   },
   {
    "duration": 28,
    "start_time": "2023-07-08T13:37:48.987Z"
   },
   {
    "duration": 82,
    "start_time": "2023-07-08T13:37:49.017Z"
   },
   {
    "duration": 80,
    "start_time": "2023-07-08T13:37:49.100Z"
   },
   {
    "duration": 89,
    "start_time": "2023-07-08T13:37:49.182Z"
   },
   {
    "duration": 46,
    "start_time": "2023-07-08T13:37:49.272Z"
   },
   {
    "duration": 39,
    "start_time": "2023-07-08T13:37:49.323Z"
   },
   {
    "duration": 11,
    "start_time": "2023-07-08T13:37:49.365Z"
   },
   {
    "duration": 11,
    "start_time": "2023-07-08T13:37:49.378Z"
   },
   {
    "duration": 7,
    "start_time": "2023-07-08T13:37:49.391Z"
   },
   {
    "duration": 23,
    "start_time": "2023-07-08T13:37:49.402Z"
   },
   {
    "duration": 57,
    "start_time": "2023-07-08T13:37:49.428Z"
   },
   {
    "duration": 17,
    "start_time": "2023-07-08T13:37:49.488Z"
   },
   {
    "duration": 39,
    "start_time": "2023-07-08T13:37:49.508Z"
   },
   {
    "duration": 232,
    "start_time": "2023-07-08T13:37:49.550Z"
   },
   {
    "duration": 170,
    "start_time": "2023-07-08T13:37:49.785Z"
   },
   {
    "duration": 231,
    "start_time": "2023-07-08T13:37:49.957Z"
   },
   {
    "duration": 276,
    "start_time": "2023-07-08T13:37:50.190Z"
   },
   {
    "duration": 320,
    "start_time": "2023-07-08T13:37:50.468Z"
   },
   {
    "duration": 51,
    "start_time": "2023-07-08T13:37:50.790Z"
   },
   {
    "duration": 17,
    "start_time": "2023-07-08T13:37:50.843Z"
   },
   {
    "duration": 301,
    "start_time": "2023-07-08T13:37:50.862Z"
   },
   {
    "duration": 310,
    "start_time": "2023-07-08T13:37:51.164Z"
   },
   {
    "duration": 20,
    "start_time": "2023-07-08T13:37:51.477Z"
   },
   {
    "duration": 396,
    "start_time": "2023-07-08T13:37:51.499Z"
   },
   {
    "duration": 323,
    "start_time": "2023-07-08T13:37:51.897Z"
   },
   {
    "duration": 38,
    "start_time": "2023-07-08T13:37:52.222Z"
   },
   {
    "duration": 48,
    "start_time": "2023-07-08T13:38:37.792Z"
   },
   {
    "duration": 39,
    "start_time": "2023-07-08T13:39:01.604Z"
   },
   {
    "duration": 38,
    "start_time": "2023-07-08T13:39:07.001Z"
   },
   {
    "duration": 617,
    "start_time": "2023-07-08T13:47:27.204Z"
   },
   {
    "duration": 57,
    "start_time": "2023-07-08T13:48:01.775Z"
   },
   {
    "duration": 44,
    "start_time": "2023-07-08T13:52:04.967Z"
   },
   {
    "duration": 30,
    "start_time": "2023-07-08T13:54:36.230Z"
   },
   {
    "duration": 39,
    "start_time": "2023-07-08T14:38:24.351Z"
   },
   {
    "duration": 85,
    "start_time": "2023-07-08T14:59:25.213Z"
   },
   {
    "duration": 1277,
    "start_time": "2023-07-08T14:59:48.460Z"
   },
   {
    "duration": 1285,
    "start_time": "2023-07-08T15:06:44.525Z"
   },
   {
    "duration": 1501,
    "start_time": "2023-07-08T15:14:27.863Z"
   },
   {
    "duration": 7,
    "start_time": "2023-07-08T17:38:36.408Z"
   },
   {
    "duration": 17,
    "start_time": "2023-07-08T17:38:36.427Z"
   },
   {
    "duration": 86,
    "start_time": "2023-07-08T17:38:36.446Z"
   },
   {
    "duration": 12,
    "start_time": "2023-07-08T17:38:36.534Z"
   },
   {
    "duration": 14,
    "start_time": "2023-07-08T17:38:36.548Z"
   },
   {
    "duration": 15,
    "start_time": "2023-07-08T17:38:36.564Z"
   },
   {
    "duration": 15,
    "start_time": "2023-07-08T17:38:36.581Z"
   },
   {
    "duration": 16,
    "start_time": "2023-07-08T17:38:36.598Z"
   },
   {
    "duration": 20,
    "start_time": "2023-07-08T17:38:36.619Z"
   },
   {
    "duration": 13,
    "start_time": "2023-07-08T17:38:36.641Z"
   },
   {
    "duration": 12,
    "start_time": "2023-07-08T17:38:36.655Z"
   },
   {
    "duration": 14,
    "start_time": "2023-07-08T17:38:36.669Z"
   },
   {
    "duration": 25,
    "start_time": "2023-07-08T17:38:36.686Z"
   },
   {
    "duration": 21,
    "start_time": "2023-07-08T17:38:36.713Z"
   },
   {
    "duration": 22,
    "start_time": "2023-07-08T17:38:36.738Z"
   },
   {
    "duration": 23,
    "start_time": "2023-07-08T17:38:36.762Z"
   },
   {
    "duration": 30,
    "start_time": "2023-07-08T17:38:36.787Z"
   },
   {
    "duration": 262,
    "start_time": "2023-07-08T17:38:36.819Z"
   },
   {
    "duration": 139,
    "start_time": "2023-07-08T17:38:37.083Z"
   },
   {
    "duration": 199,
    "start_time": "2023-07-08T17:38:37.224Z"
   },
   {
    "duration": 223,
    "start_time": "2023-07-08T17:38:37.427Z"
   },
   {
    "duration": 219,
    "start_time": "2023-07-08T17:38:37.652Z"
   },
   {
    "duration": 21,
    "start_time": "2023-07-08T17:38:37.873Z"
   },
   {
    "duration": 19,
    "start_time": "2023-07-08T17:38:37.913Z"
   },
   {
    "duration": 300,
    "start_time": "2023-07-08T17:38:37.934Z"
   },
   {
    "duration": 291,
    "start_time": "2023-07-08T17:38:38.236Z"
   },
   {
    "duration": 16,
    "start_time": "2023-07-08T17:38:38.529Z"
   },
   {
    "duration": 286,
    "start_time": "2023-07-08T17:38:38.547Z"
   },
   {
    "duration": 406,
    "start_time": "2023-07-08T17:38:38.836Z"
   },
   {
    "duration": 39,
    "start_time": "2023-07-08T17:38:39.244Z"
   },
   {
    "duration": 1769,
    "start_time": "2023-07-08T17:38:39.285Z"
   },
   {
    "duration": 1434,
    "start_time": "2023-07-08T18:23:12.748Z"
   },
   {
    "duration": 1509,
    "start_time": "2023-07-08T18:24:56.214Z"
   },
   {
    "duration": 35,
    "start_time": "2023-07-08T18:30:34.401Z"
   },
   {
    "duration": 4,
    "start_time": "2023-07-08T18:30:51.305Z"
   },
   {
    "duration": 32,
    "start_time": "2023-07-08T18:30:51.316Z"
   },
   {
    "duration": 96,
    "start_time": "2023-07-08T18:30:51.353Z"
   },
   {
    "duration": 10,
    "start_time": "2023-07-08T18:30:51.451Z"
   },
   {
    "duration": 28,
    "start_time": "2023-07-08T18:30:51.463Z"
   },
   {
    "duration": 37,
    "start_time": "2023-07-08T18:30:51.493Z"
   },
   {
    "duration": 32,
    "start_time": "2023-07-08T18:30:51.532Z"
   },
   {
    "duration": 36,
    "start_time": "2023-07-08T18:30:51.566Z"
   },
   {
    "duration": 49,
    "start_time": "2023-07-08T18:30:51.604Z"
   },
   {
    "duration": 47,
    "start_time": "2023-07-08T18:30:51.655Z"
   },
   {
    "duration": 25,
    "start_time": "2023-07-08T18:30:51.704Z"
   },
   {
    "duration": 11,
    "start_time": "2023-07-08T18:30:51.731Z"
   },
   {
    "duration": 17,
    "start_time": "2023-07-08T18:30:51.745Z"
   },
   {
    "duration": 22,
    "start_time": "2023-07-08T18:30:51.763Z"
   },
   {
    "duration": 20,
    "start_time": "2023-07-08T18:30:51.787Z"
   },
   {
    "duration": 39,
    "start_time": "2023-07-08T18:30:51.808Z"
   },
   {
    "duration": 36,
    "start_time": "2023-07-08T18:30:51.848Z"
   },
   {
    "duration": 165,
    "start_time": "2023-07-08T18:30:51.886Z"
   },
   {
    "duration": 132,
    "start_time": "2023-07-08T18:30:52.053Z"
   },
   {
    "duration": 204,
    "start_time": "2023-07-08T18:30:52.187Z"
   },
   {
    "duration": 232,
    "start_time": "2023-07-08T18:30:52.393Z"
   },
   {
    "duration": 211,
    "start_time": "2023-07-08T18:30:52.627Z"
   },
   {
    "duration": 21,
    "start_time": "2023-07-08T18:30:52.840Z"
   },
   {
    "duration": 32,
    "start_time": "2023-07-08T18:30:52.863Z"
   },
   {
    "duration": 289,
    "start_time": "2023-07-08T18:30:52.897Z"
   },
   {
    "duration": 391,
    "start_time": "2023-07-08T18:30:53.188Z"
   },
   {
    "duration": 15,
    "start_time": "2023-07-08T18:30:53.581Z"
   },
   {
    "duration": 292,
    "start_time": "2023-07-08T18:30:53.608Z"
   },
   {
    "duration": 308,
    "start_time": "2023-07-08T18:30:53.909Z"
   },
   {
    "duration": 34,
    "start_time": "2023-07-08T18:30:58.347Z"
   },
   {
    "duration": 25,
    "start_time": "2023-07-08T19:45:05.896Z"
   },
   {
    "duration": 3,
    "start_time": "2023-07-08T20:19:28.419Z"
   },
   {
    "duration": 6,
    "start_time": "2023-07-08T20:21:24.923Z"
   },
   {
    "duration": 14,
    "start_time": "2023-07-08T20:21:39.078Z"
   },
   {
    "duration": 4,
    "start_time": "2023-07-08T20:21:59.461Z"
   },
   {
    "duration": 22,
    "start_time": "2023-07-08T20:21:59.467Z"
   },
   {
    "duration": 27,
    "start_time": "2023-07-08T20:21:59.491Z"
   },
   {
    "duration": 85,
    "start_time": "2023-07-08T20:21:59.520Z"
   },
   {
    "duration": 9,
    "start_time": "2023-07-08T20:21:59.608Z"
   },
   {
    "duration": 15,
    "start_time": "2023-07-08T20:21:59.619Z"
   },
   {
    "duration": 18,
    "start_time": "2023-07-08T20:21:59.636Z"
   },
   {
    "duration": 25,
    "start_time": "2023-07-08T20:21:59.656Z"
   },
   {
    "duration": 10,
    "start_time": "2023-07-08T20:21:59.683Z"
   },
   {
    "duration": 29,
    "start_time": "2023-07-08T20:21:59.695Z"
   },
   {
    "duration": 26,
    "start_time": "2023-07-08T20:21:59.726Z"
   },
   {
    "duration": 12,
    "start_time": "2023-07-08T20:21:59.754Z"
   },
   {
    "duration": 10,
    "start_time": "2023-07-08T20:21:59.768Z"
   },
   {
    "duration": 8,
    "start_time": "2023-07-08T20:21:59.781Z"
   },
   {
    "duration": 18,
    "start_time": "2023-07-08T20:21:59.791Z"
   },
   {
    "duration": 12,
    "start_time": "2023-07-08T20:21:59.810Z"
   },
   {
    "duration": 13,
    "start_time": "2023-07-08T20:21:59.824Z"
   },
   {
    "duration": 8,
    "start_time": "2023-07-08T20:21:59.838Z"
   },
   {
    "duration": 165,
    "start_time": "2023-07-08T20:21:59.847Z"
   },
   {
    "duration": 134,
    "start_time": "2023-07-08T20:22:00.014Z"
   },
   {
    "duration": 175,
    "start_time": "2023-07-08T20:22:00.150Z"
   },
   {
    "duration": 224,
    "start_time": "2023-07-08T20:22:00.327Z"
   },
   {
    "duration": 337,
    "start_time": "2023-07-08T20:22:00.553Z"
   },
   {
    "duration": 32,
    "start_time": "2023-07-08T20:22:00.892Z"
   },
   {
    "duration": 24,
    "start_time": "2023-07-08T20:22:00.926Z"
   },
   {
    "duration": 312,
    "start_time": "2023-07-08T20:22:00.951Z"
   },
   {
    "duration": 281,
    "start_time": "2023-07-08T20:22:01.264Z"
   },
   {
    "duration": 17,
    "start_time": "2023-07-08T20:22:01.547Z"
   },
   {
    "duration": 329,
    "start_time": "2023-07-08T20:22:01.566Z"
   },
   {
    "duration": 278,
    "start_time": "2023-07-08T20:22:01.897Z"
   },
   {
    "duration": 46,
    "start_time": "2023-07-08T20:22:02.177Z"
   },
   {
    "duration": 13,
    "start_time": "2023-07-08T20:22:02.225Z"
   },
   {
    "duration": 74,
    "start_time": "2023-07-08T20:22:02.240Z"
   },
   {
    "duration": 12,
    "start_time": "2023-07-08T20:23:04.150Z"
   },
   {
    "duration": 20,
    "start_time": "2023-07-08T20:29:23.508Z"
   },
   {
    "duration": 2,
    "start_time": "2023-07-08T20:50:51.861Z"
   },
   {
    "duration": 40,
    "start_time": "2023-07-08T20:50:51.865Z"
   },
   {
    "duration": 35,
    "start_time": "2023-07-08T20:50:51.907Z"
   },
   {
    "duration": 104,
    "start_time": "2023-07-08T20:50:51.944Z"
   },
   {
    "duration": 8,
    "start_time": "2023-07-08T20:50:52.051Z"
   },
   {
    "duration": 34,
    "start_time": "2023-07-08T20:50:52.061Z"
   },
   {
    "duration": 21,
    "start_time": "2023-07-08T20:50:52.097Z"
   },
   {
    "duration": 19,
    "start_time": "2023-07-08T20:50:52.120Z"
   },
   {
    "duration": 46,
    "start_time": "2023-07-08T20:50:52.141Z"
   },
   {
    "duration": 30,
    "start_time": "2023-07-08T20:50:52.189Z"
   },
   {
    "duration": 32,
    "start_time": "2023-07-08T20:50:52.221Z"
   },
   {
    "duration": 16,
    "start_time": "2023-07-08T20:50:52.255Z"
   },
   {
    "duration": 12,
    "start_time": "2023-07-08T20:50:52.273Z"
   },
   {
    "duration": 9,
    "start_time": "2023-07-08T20:50:52.287Z"
   },
   {
    "duration": 15,
    "start_time": "2023-07-08T20:50:52.298Z"
   },
   {
    "duration": 7,
    "start_time": "2023-07-08T20:50:52.315Z"
   },
   {
    "duration": 12,
    "start_time": "2023-07-08T20:50:52.324Z"
   },
   {
    "duration": 6,
    "start_time": "2023-07-08T20:50:52.338Z"
   },
   {
    "duration": 164,
    "start_time": "2023-07-08T20:50:52.345Z"
   },
   {
    "duration": 135,
    "start_time": "2023-07-08T20:50:52.511Z"
   },
   {
    "duration": 275,
    "start_time": "2023-07-08T20:50:52.648Z"
   },
   {
    "duration": 203,
    "start_time": "2023-07-08T20:50:52.925Z"
   },
   {
    "duration": 205,
    "start_time": "2023-07-08T20:50:53.130Z"
   },
   {
    "duration": 21,
    "start_time": "2023-07-08T20:50:53.337Z"
   },
   {
    "duration": 16,
    "start_time": "2023-07-08T20:50:53.360Z"
   },
   {
    "duration": 270,
    "start_time": "2023-07-08T20:50:53.377Z"
   },
   {
    "duration": 262,
    "start_time": "2023-07-08T20:50:53.649Z"
   },
   {
    "duration": 15,
    "start_time": "2023-07-08T20:50:53.912Z"
   },
   {
    "duration": 267,
    "start_time": "2023-07-08T20:50:53.930Z"
   },
   {
    "duration": 353,
    "start_time": "2023-07-08T20:50:54.199Z"
   },
   {
    "duration": 11,
    "start_time": "2023-07-08T20:50:58.145Z"
   },
   {
    "duration": 17,
    "start_time": "2023-07-08T20:51:10.310Z"
   },
   {
    "duration": 122,
    "start_time": "2023-07-08T20:51:37.321Z"
   },
   {
    "duration": 14,
    "start_time": "2023-07-08T20:52:02.670Z"
   },
   {
    "duration": 15,
    "start_time": "2023-07-08T20:53:50.643Z"
   },
   {
    "duration": 396,
    "start_time": "2023-07-09T08:05:33.498Z"
   },
   {
    "duration": 533,
    "start_time": "2023-07-09T08:05:33.896Z"
   },
   {
    "duration": 3,
    "start_time": "2023-07-09T08:05:34.431Z"
   },
   {
    "duration": 319,
    "start_time": "2023-07-09T08:05:34.436Z"
   },
   {
    "duration": 13,
    "start_time": "2023-07-09T08:05:34.758Z"
   },
   {
    "duration": 12,
    "start_time": "2023-07-09T08:05:34.772Z"
   },
   {
    "duration": 11,
    "start_time": "2023-07-09T08:05:34.786Z"
   },
   {
    "duration": 24,
    "start_time": "2023-07-09T08:05:34.799Z"
   },
   {
    "duration": 11,
    "start_time": "2023-07-09T08:05:34.825Z"
   },
   {
    "duration": 53,
    "start_time": "2023-07-09T08:05:34.839Z"
   },
   {
    "duration": 17,
    "start_time": "2023-07-09T08:05:34.895Z"
   },
   {
    "duration": 10,
    "start_time": "2023-07-09T08:05:34.914Z"
   },
   {
    "duration": 8,
    "start_time": "2023-07-09T08:05:34.926Z"
   },
   {
    "duration": 11,
    "start_time": "2023-07-09T08:05:34.938Z"
   },
   {
    "duration": 10,
    "start_time": "2023-07-09T08:05:34.963Z"
   },
   {
    "duration": 7,
    "start_time": "2023-07-09T08:05:34.975Z"
   },
   {
    "duration": 36,
    "start_time": "2023-07-09T08:05:34.984Z"
   },
   {
    "duration": 8,
    "start_time": "2023-07-09T08:05:35.022Z"
   },
   {
    "duration": 190,
    "start_time": "2023-07-09T08:05:35.032Z"
   },
   {
    "duration": 145,
    "start_time": "2023-07-09T08:05:35.224Z"
   },
   {
    "duration": 201,
    "start_time": "2023-07-09T08:05:35.371Z"
   },
   {
    "duration": 274,
    "start_time": "2023-07-09T08:05:35.573Z"
   },
   {
    "duration": 220,
    "start_time": "2023-07-09T08:05:35.849Z"
   },
   {
    "duration": 28,
    "start_time": "2023-07-09T08:05:36.071Z"
   },
   {
    "duration": 11,
    "start_time": "2023-07-09T08:05:36.101Z"
   },
   {
    "duration": 20,
    "start_time": "2023-07-09T08:05:36.113Z"
   },
   {
    "duration": 275,
    "start_time": "2023-07-09T08:05:36.160Z"
   },
   {
    "duration": 286,
    "start_time": "2023-07-09T08:05:36.437Z"
   },
   {
    "duration": 15,
    "start_time": "2023-07-09T08:05:36.725Z"
   },
   {
    "duration": 278,
    "start_time": "2023-07-09T08:05:36.742Z"
   },
   {
    "duration": 286,
    "start_time": "2023-07-09T08:05:37.022Z"
   },
   {
    "duration": 93,
    "start_time": "2023-07-09T08:05:37.310Z"
   },
   {
    "duration": 0,
    "start_time": "2023-07-09T08:05:37.405Z"
   },
   {
    "duration": 0,
    "start_time": "2023-07-09T08:05:37.406Z"
   },
   {
    "duration": 0,
    "start_time": "2023-07-09T08:05:37.407Z"
   },
   {
    "duration": 17,
    "start_time": "2023-07-09T08:14:08.310Z"
   },
   {
    "duration": 37,
    "start_time": "2023-07-09T08:14:38.272Z"
   },
   {
    "duration": 4,
    "start_time": "2023-07-09T08:19:20.855Z"
   },
   {
    "duration": 7,
    "start_time": "2023-07-09T08:19:20.861Z"
   },
   {
    "duration": 5,
    "start_time": "2023-07-09T08:19:20.870Z"
   },
   {
    "duration": 77,
    "start_time": "2023-07-09T08:19:20.877Z"
   },
   {
    "duration": 11,
    "start_time": "2023-07-09T08:19:20.957Z"
   },
   {
    "duration": 12,
    "start_time": "2023-07-09T08:19:20.970Z"
   },
   {
    "duration": 13,
    "start_time": "2023-07-09T08:19:20.984Z"
   },
   {
    "duration": 22,
    "start_time": "2023-07-09T08:19:21.000Z"
   },
   {
    "duration": 42,
    "start_time": "2023-07-09T08:19:21.024Z"
   },
   {
    "duration": 15,
    "start_time": "2023-07-09T08:19:21.068Z"
   },
   {
    "duration": 16,
    "start_time": "2023-07-09T08:19:21.085Z"
   },
   {
    "duration": 8,
    "start_time": "2023-07-09T08:19:21.103Z"
   },
   {
    "duration": 47,
    "start_time": "2023-07-09T08:19:21.114Z"
   },
   {
    "duration": 9,
    "start_time": "2023-07-09T08:19:21.167Z"
   },
   {
    "duration": 13,
    "start_time": "2023-07-09T08:19:21.178Z"
   },
   {
    "duration": 17,
    "start_time": "2023-07-09T08:19:21.193Z"
   },
   {
    "duration": 13,
    "start_time": "2023-07-09T08:19:21.212Z"
   },
   {
    "duration": 37,
    "start_time": "2023-07-09T08:19:21.228Z"
   },
   {
    "duration": 184,
    "start_time": "2023-07-09T08:19:21.267Z"
   },
   {
    "duration": 240,
    "start_time": "2023-07-09T08:19:21.460Z"
   },
   {
    "duration": 231,
    "start_time": "2023-07-09T08:19:21.703Z"
   },
   {
    "duration": 252,
    "start_time": "2023-07-09T08:19:21.936Z"
   },
   {
    "duration": 228,
    "start_time": "2023-07-09T08:19:22.191Z"
   },
   {
    "duration": 23,
    "start_time": "2023-07-09T08:19:22.421Z"
   },
   {
    "duration": 26,
    "start_time": "2023-07-09T08:19:22.460Z"
   },
   {
    "duration": 20,
    "start_time": "2023-07-09T08:19:22.488Z"
   },
   {
    "duration": 313,
    "start_time": "2023-07-09T08:19:22.510Z"
   },
   {
    "duration": 324,
    "start_time": "2023-07-09T08:19:22.825Z"
   },
   {
    "duration": 27,
    "start_time": "2023-07-09T08:19:23.158Z"
   },
   {
    "duration": 312,
    "start_time": "2023-07-09T08:19:23.188Z"
   },
   {
    "duration": 455,
    "start_time": "2023-07-09T08:19:23.501Z"
   },
   {
    "duration": 24,
    "start_time": "2023-07-09T08:19:23.959Z"
   },
   {
    "duration": 0,
    "start_time": "2023-07-09T08:19:23.986Z"
   },
   {
    "duration": 0,
    "start_time": "2023-07-09T08:19:23.988Z"
   },
   {
    "duration": 0,
    "start_time": "2023-07-09T08:19:23.989Z"
   },
   {
    "duration": 196,
    "start_time": "2023-07-09T08:24:52.208Z"
   },
   {
    "duration": 23,
    "start_time": "2023-07-09T08:32:02.361Z"
   },
   {
    "duration": 33,
    "start_time": "2023-07-09T08:34:54.210Z"
   },
   {
    "duration": 4,
    "start_time": "2023-07-09T08:37:13.361Z"
   },
   {
    "duration": 10,
    "start_time": "2023-07-09T08:37:13.367Z"
   },
   {
    "duration": 7,
    "start_time": "2023-07-09T08:37:13.380Z"
   },
   {
    "duration": 81,
    "start_time": "2023-07-09T08:37:13.389Z"
   },
   {
    "duration": 10,
    "start_time": "2023-07-09T08:37:13.473Z"
   },
   {
    "duration": 13,
    "start_time": "2023-07-09T08:37:13.484Z"
   },
   {
    "duration": 11,
    "start_time": "2023-07-09T08:37:13.499Z"
   },
   {
    "duration": 13,
    "start_time": "2023-07-09T08:37:13.512Z"
   },
   {
    "duration": 8,
    "start_time": "2023-07-09T08:37:13.527Z"
   },
   {
    "duration": 12,
    "start_time": "2023-07-09T08:37:13.560Z"
   },
   {
    "duration": 10,
    "start_time": "2023-07-09T08:37:13.575Z"
   },
   {
    "duration": 11,
    "start_time": "2023-07-09T08:37:13.586Z"
   },
   {
    "duration": 6,
    "start_time": "2023-07-09T08:37:13.599Z"
   },
   {
    "duration": 6,
    "start_time": "2023-07-09T08:37:13.608Z"
   },
   {
    "duration": 48,
    "start_time": "2023-07-09T08:37:13.616Z"
   },
   {
    "duration": 11,
    "start_time": "2023-07-09T08:37:13.666Z"
   },
   {
    "duration": 12,
    "start_time": "2023-07-09T08:37:13.679Z"
   },
   {
    "duration": 7,
    "start_time": "2023-07-09T08:37:13.693Z"
   },
   {
    "duration": 162,
    "start_time": "2023-07-09T08:37:13.702Z"
   },
   {
    "duration": 126,
    "start_time": "2023-07-09T08:37:13.866Z"
   },
   {
    "duration": 230,
    "start_time": "2023-07-09T08:37:13.993Z"
   },
   {
    "duration": 277,
    "start_time": "2023-07-09T08:37:14.225Z"
   },
   {
    "duration": 216,
    "start_time": "2023-07-09T08:37:14.504Z"
   },
   {
    "duration": 21,
    "start_time": "2023-07-09T08:37:14.722Z"
   },
   {
    "duration": 34,
    "start_time": "2023-07-09T08:37:14.745Z"
   },
   {
    "duration": 17,
    "start_time": "2023-07-09T08:37:14.781Z"
   },
   {
    "duration": 291,
    "start_time": "2023-07-09T08:37:14.800Z"
   },
   {
    "duration": 292,
    "start_time": "2023-07-09T08:37:15.092Z"
   },
   {
    "duration": 18,
    "start_time": "2023-07-09T08:37:15.386Z"
   },
   {
    "duration": 388,
    "start_time": "2023-07-09T08:37:15.406Z"
   },
   {
    "duration": 296,
    "start_time": "2023-07-09T08:37:15.796Z"
   },
   {
    "duration": 24,
    "start_time": "2023-07-09T08:37:18.704Z"
   },
   {
    "duration": 0,
    "start_time": "2023-07-09T08:37:55.392Z"
   },
   {
    "duration": 3,
    "start_time": "2023-07-09T08:38:23.056Z"
   },
   {
    "duration": 3,
    "start_time": "2023-07-09T08:38:23.062Z"
   },
   {
    "duration": 4,
    "start_time": "2023-07-09T08:38:23.067Z"
   },
   {
    "duration": 69,
    "start_time": "2023-07-09T08:38:23.073Z"
   },
   {
    "duration": 9,
    "start_time": "2023-07-09T08:38:23.144Z"
   },
   {
    "duration": 14,
    "start_time": "2023-07-09T08:38:23.154Z"
   },
   {
    "duration": 10,
    "start_time": "2023-07-09T08:38:23.170Z"
   },
   {
    "duration": 19,
    "start_time": "2023-07-09T08:38:23.182Z"
   },
   {
    "duration": 24,
    "start_time": "2023-07-09T08:38:23.203Z"
   },
   {
    "duration": 29,
    "start_time": "2023-07-09T08:38:23.230Z"
   },
   {
    "duration": 16,
    "start_time": "2023-07-09T08:38:23.261Z"
   },
   {
    "duration": 10,
    "start_time": "2023-07-09T08:38:23.279Z"
   },
   {
    "duration": 16,
    "start_time": "2023-07-09T08:38:23.291Z"
   },
   {
    "duration": 10,
    "start_time": "2023-07-09T08:38:23.309Z"
   },
   {
    "duration": 9,
    "start_time": "2023-07-09T08:38:23.322Z"
   },
   {
    "duration": 6,
    "start_time": "2023-07-09T08:38:23.332Z"
   },
   {
    "duration": 28,
    "start_time": "2023-07-09T08:38:23.339Z"
   },
   {
    "duration": 7,
    "start_time": "2023-07-09T08:38:23.369Z"
   },
   {
    "duration": 153,
    "start_time": "2023-07-09T08:38:23.377Z"
   },
   {
    "duration": 128,
    "start_time": "2023-07-09T08:38:23.531Z"
   },
   {
    "duration": 172,
    "start_time": "2023-07-09T08:38:23.660Z"
   },
   {
    "duration": 206,
    "start_time": "2023-07-09T08:38:23.834Z"
   },
   {
    "duration": 281,
    "start_time": "2023-07-09T08:38:24.042Z"
   },
   {
    "duration": 36,
    "start_time": "2023-07-09T08:38:24.325Z"
   },
   {
    "duration": 21,
    "start_time": "2023-07-09T08:38:24.363Z"
   },
   {
    "duration": 19,
    "start_time": "2023-07-09T08:38:24.386Z"
   },
   {
    "duration": 297,
    "start_time": "2023-07-09T08:38:24.407Z"
   },
   {
    "duration": 365,
    "start_time": "2023-07-09T08:38:24.706Z"
   },
   {
    "duration": 16,
    "start_time": "2023-07-09T08:38:25.073Z"
   },
   {
    "duration": 273,
    "start_time": "2023-07-09T08:38:25.091Z"
   },
   {
    "duration": 271,
    "start_time": "2023-07-09T08:38:25.365Z"
   },
   {
    "duration": 40,
    "start_time": "2023-07-09T08:38:25.638Z"
   },
   {
    "duration": 2028,
    "start_time": "2023-07-09T08:38:25.680Z"
   },
   {
    "duration": 35,
    "start_time": "2023-07-09T08:39:00.273Z"
   },
   {
    "duration": 42,
    "start_time": "2023-07-09T08:48:02.274Z"
   },
   {
    "duration": 22,
    "start_time": "2023-07-09T08:49:42.392Z"
   },
   {
    "duration": 68,
    "start_time": "2023-07-09T08:50:04.271Z"
   },
   {
    "duration": 2287,
    "start_time": "2023-07-09T08:51:28.829Z"
   },
   {
    "duration": 1803,
    "start_time": "2023-07-09T08:51:51.935Z"
   },
   {
    "duration": 25,
    "start_time": "2023-07-09T08:52:07.920Z"
   },
   {
    "duration": 1759,
    "start_time": "2023-07-09T08:56:56.350Z"
   },
   {
    "duration": 1760,
    "start_time": "2023-07-09T08:57:51.097Z"
   },
   {
    "duration": 50,
    "start_time": "2023-07-09T09:00:47.371Z"
   },
   {
    "duration": 45,
    "start_time": "2023-07-09T09:01:01.513Z"
   },
   {
    "duration": 11,
    "start_time": "2023-07-09T09:01:26.219Z"
   },
   {
    "duration": 31,
    "start_time": "2023-07-09T09:01:41.073Z"
   },
   {
    "duration": 28,
    "start_time": "2023-07-09T09:02:06.882Z"
   },
   {
    "duration": 869,
    "start_time": "2023-07-09T09:35:27.532Z"
   },
   {
    "duration": 23,
    "start_time": "2023-07-09T09:35:38.972Z"
   },
   {
    "duration": 17,
    "start_time": "2023-07-09T09:35:44.498Z"
   },
   {
    "duration": 633,
    "start_time": "2023-07-09T18:33:35.360Z"
   },
   {
    "duration": 428,
    "start_time": "2023-07-09T21:47:32.816Z"
   },
   {
    "duration": 444,
    "start_time": "2023-07-09T21:47:33.247Z"
   },
   {
    "duration": 3,
    "start_time": "2023-07-09T21:47:33.693Z"
   },
   {
    "duration": 515,
    "start_time": "2023-07-09T21:47:33.698Z"
   },
   {
    "duration": 194,
    "start_time": "2023-07-09T21:47:34.216Z"
   },
   {
    "duration": 14,
    "start_time": "2023-07-09T21:47:34.412Z"
   },
   {
    "duration": 34,
    "start_time": "2023-07-09T21:47:34.428Z"
   },
   {
    "duration": 24,
    "start_time": "2023-07-09T21:47:34.464Z"
   },
   {
    "duration": 31,
    "start_time": "2023-07-09T21:47:34.490Z"
   },
   {
    "duration": 35,
    "start_time": "2023-07-09T21:47:34.523Z"
   },
   {
    "duration": 50,
    "start_time": "2023-07-09T21:47:34.560Z"
   },
   {
    "duration": 39,
    "start_time": "2023-07-09T21:47:34.612Z"
   },
   {
    "duration": 13,
    "start_time": "2023-07-09T21:47:34.653Z"
   },
   {
    "duration": 8,
    "start_time": "2023-07-09T21:47:34.670Z"
   },
   {
    "duration": 7,
    "start_time": "2023-07-09T21:47:34.680Z"
   },
   {
    "duration": 23,
    "start_time": "2023-07-09T21:47:34.689Z"
   },
   {
    "duration": 12,
    "start_time": "2023-07-09T21:47:34.714Z"
   },
   {
    "duration": 25,
    "start_time": "2023-07-09T21:47:34.728Z"
   },
   {
    "duration": 9,
    "start_time": "2023-07-09T21:47:34.755Z"
   },
   {
    "duration": 164,
    "start_time": "2023-07-09T21:47:34.766Z"
   },
   {
    "duration": 135,
    "start_time": "2023-07-09T21:47:34.932Z"
   },
   {
    "duration": 185,
    "start_time": "2023-07-09T21:47:35.070Z"
   },
   {
    "duration": 248,
    "start_time": "2023-07-09T21:47:35.258Z"
   },
   {
    "duration": 214,
    "start_time": "2023-07-09T21:47:35.508Z"
   },
   {
    "duration": 32,
    "start_time": "2023-07-09T21:47:35.724Z"
   },
   {
    "duration": 33,
    "start_time": "2023-07-09T21:47:35.758Z"
   },
   {
    "duration": 40,
    "start_time": "2023-07-09T21:47:35.793Z"
   },
   {
    "duration": 277,
    "start_time": "2023-07-09T21:47:35.834Z"
   },
   {
    "duration": 358,
    "start_time": "2023-07-09T21:47:36.112Z"
   },
   {
    "duration": 15,
    "start_time": "2023-07-09T21:47:36.471Z"
   },
   {
    "duration": 256,
    "start_time": "2023-07-09T21:47:36.488Z"
   },
   {
    "duration": 253,
    "start_time": "2023-07-09T21:47:36.752Z"
   },
   {
    "duration": 823,
    "start_time": "2023-07-09T21:47:37.007Z"
   },
   {
    "duration": 24,
    "start_time": "2023-07-09T21:47:37.832Z"
   },
   {
    "duration": 15,
    "start_time": "2023-07-09T21:47:37.858Z"
   },
   {
    "duration": 9,
    "start_time": "2023-07-09T21:47:37.874Z"
   },
   {
    "duration": 103,
    "start_time": "2023-07-09T22:11:31.498Z"
   },
   {
    "duration": 11,
    "start_time": "2023-07-09T22:11:45.626Z"
   },
   {
    "duration": 11,
    "start_time": "2023-07-09T22:11:57.594Z"
   },
   {
    "duration": 12,
    "start_time": "2023-07-09T22:12:17.870Z"
   },
   {
    "duration": 6,
    "start_time": "2023-07-09T22:12:25.980Z"
   },
   {
    "duration": 23,
    "start_time": "2023-07-09T22:27:30.584Z"
   },
   {
    "duration": 16,
    "start_time": "2023-07-09T22:27:41.129Z"
   },
   {
    "duration": 3,
    "start_time": "2023-07-09T22:35:08.186Z"
   },
   {
    "duration": 7,
    "start_time": "2023-07-09T22:35:08.191Z"
   },
   {
    "duration": 7,
    "start_time": "2023-07-09T22:35:08.199Z"
   },
   {
    "duration": 11,
    "start_time": "2023-07-09T22:35:08.208Z"
   },
   {
    "duration": 90,
    "start_time": "2023-07-09T22:35:08.222Z"
   },
   {
    "duration": 11,
    "start_time": "2023-07-09T22:35:08.314Z"
   },
   {
    "duration": 16,
    "start_time": "2023-07-09T22:35:08.327Z"
   },
   {
    "duration": 35,
    "start_time": "2023-07-09T22:35:08.345Z"
   },
   {
    "duration": 18,
    "start_time": "2023-07-09T22:35:08.382Z"
   },
   {
    "duration": 12,
    "start_time": "2023-07-09T22:35:08.402Z"
   },
   {
    "duration": 24,
    "start_time": "2023-07-09T22:35:08.416Z"
   },
   {
    "duration": 20,
    "start_time": "2023-07-09T22:35:08.442Z"
   },
   {
    "duration": 33,
    "start_time": "2023-07-09T22:35:08.468Z"
   },
   {
    "duration": 10,
    "start_time": "2023-07-09T22:35:08.503Z"
   },
   {
    "duration": 9,
    "start_time": "2023-07-09T22:35:08.515Z"
   },
   {
    "duration": 18,
    "start_time": "2023-07-09T22:35:08.526Z"
   },
   {
    "duration": 7,
    "start_time": "2023-07-09T22:35:08.546Z"
   },
   {
    "duration": 19,
    "start_time": "2023-07-09T22:35:08.555Z"
   },
   {
    "duration": 8,
    "start_time": "2023-07-09T22:35:08.576Z"
   },
   {
    "duration": 152,
    "start_time": "2023-07-09T22:35:08.586Z"
   },
   {
    "duration": 125,
    "start_time": "2023-07-09T22:35:08.740Z"
   },
   {
    "duration": 181,
    "start_time": "2023-07-09T22:35:08.867Z"
   },
   {
    "duration": 217,
    "start_time": "2023-07-09T22:35:09.052Z"
   },
   {
    "duration": 246,
    "start_time": "2023-07-09T22:35:09.271Z"
   },
   {
    "duration": 20,
    "start_time": "2023-07-09T22:35:09.518Z"
   },
   {
    "duration": 31,
    "start_time": "2023-07-09T22:35:09.552Z"
   },
   {
    "duration": 18,
    "start_time": "2023-07-09T22:35:09.585Z"
   },
   {
    "duration": 393,
    "start_time": "2023-07-09T22:35:09.604Z"
   },
   {
    "duration": 296,
    "start_time": "2023-07-09T22:35:09.999Z"
   },
   {
    "duration": 15,
    "start_time": "2023-07-09T22:35:10.297Z"
   },
   {
    "duration": 305,
    "start_time": "2023-07-09T22:35:10.314Z"
   },
   {
    "duration": 314,
    "start_time": "2023-07-09T22:35:10.620Z"
   },
   {
    "duration": 897,
    "start_time": "2023-07-09T22:35:10.936Z"
   },
   {
    "duration": 19,
    "start_time": "2023-07-09T22:35:11.835Z"
   },
   {
    "duration": 21,
    "start_time": "2023-07-09T22:35:11.857Z"
   },
   {
    "duration": 11,
    "start_time": "2023-07-09T22:35:11.879Z"
   },
   {
    "duration": 0,
    "start_time": "2023-07-09T22:35:11.892Z"
   },
   {
    "duration": 1,
    "start_time": "2023-07-09T22:35:11.893Z"
   },
   {
    "duration": 12,
    "start_time": "2023-07-09T22:35:41.762Z"
   },
   {
    "duration": 8,
    "start_time": "2023-07-09T22:35:45.568Z"
   },
   {
    "duration": 11,
    "start_time": "2023-07-09T22:35:49.388Z"
   },
   {
    "duration": 454,
    "start_time": "2023-07-10T14:08:59.061Z"
   },
   {
    "duration": 2,
    "start_time": "2023-07-10T14:09:03.534Z"
   },
   {
    "duration": 422,
    "start_time": "2023-07-10T14:09:03.539Z"
   },
   {
    "duration": 2,
    "start_time": "2023-07-10T14:09:03.963Z"
   },
   {
    "duration": 580,
    "start_time": "2023-07-10T14:09:03.970Z"
   },
   {
    "duration": 198,
    "start_time": "2023-07-10T14:09:04.552Z"
   },
   {
    "duration": 12,
    "start_time": "2023-07-10T14:09:04.751Z"
   },
   {
    "duration": 17,
    "start_time": "2023-07-10T14:09:04.764Z"
   },
   {
    "duration": 17,
    "start_time": "2023-07-10T14:09:04.782Z"
   },
   {
    "duration": 28,
    "start_time": "2023-07-10T14:09:04.801Z"
   },
   {
    "duration": 12,
    "start_time": "2023-07-10T14:09:04.831Z"
   },
   {
    "duration": 33,
    "start_time": "2023-07-10T14:09:04.844Z"
   },
   {
    "duration": 14,
    "start_time": "2023-07-10T14:09:04.878Z"
   },
   {
    "duration": 7,
    "start_time": "2023-07-10T14:09:04.893Z"
   },
   {
    "duration": 13,
    "start_time": "2023-07-10T14:09:04.903Z"
   },
   {
    "duration": 9,
    "start_time": "2023-07-10T14:09:04.917Z"
   },
   {
    "duration": 20,
    "start_time": "2023-07-10T14:09:04.927Z"
   },
   {
    "duration": 7,
    "start_time": "2023-07-10T14:09:04.948Z"
   },
   {
    "duration": 20,
    "start_time": "2023-07-10T14:09:04.957Z"
   },
   {
    "duration": 20,
    "start_time": "2023-07-10T14:09:04.978Z"
   },
   {
    "duration": 142,
    "start_time": "2023-07-10T14:09:05.000Z"
   },
   {
    "duration": 124,
    "start_time": "2023-07-10T14:09:05.143Z"
   },
   {
    "duration": 159,
    "start_time": "2023-07-10T14:09:05.268Z"
   },
   {
    "duration": 202,
    "start_time": "2023-07-10T14:09:05.429Z"
   },
   {
    "duration": 199,
    "start_time": "2023-07-10T14:09:05.632Z"
   },
   {
    "duration": 20,
    "start_time": "2023-07-10T14:09:05.833Z"
   },
   {
    "duration": 21,
    "start_time": "2023-07-10T14:09:05.871Z"
   },
   {
    "duration": 68,
    "start_time": "2023-07-10T14:09:05.894Z"
   },
   {
    "duration": 259,
    "start_time": "2023-07-10T14:09:05.963Z"
   },
   {
    "duration": 358,
    "start_time": "2023-07-10T14:09:06.224Z"
   },
   {
    "duration": 15,
    "start_time": "2023-07-10T14:09:06.583Z"
   },
   {
    "duration": 254,
    "start_time": "2023-07-10T14:09:06.599Z"
   },
   {
    "duration": 252,
    "start_time": "2023-07-10T14:09:06.854Z"
   },
   {
    "duration": 821,
    "start_time": "2023-07-10T14:09:07.107Z"
   },
   {
    "duration": 13,
    "start_time": "2023-07-10T14:09:07.929Z"
   },
   {
    "duration": 30,
    "start_time": "2023-07-10T14:09:07.944Z"
   },
   {
    "duration": 5,
    "start_time": "2023-07-10T14:09:07.975Z"
   },
   {
    "duration": 7,
    "start_time": "2023-07-10T14:09:07.982Z"
   },
   {
    "duration": 59,
    "start_time": "2023-07-10T14:09:07.990Z"
   },
   {
    "duration": 184,
    "start_time": "2023-07-10T16:34:57.257Z"
   },
   {
    "duration": 187,
    "start_time": "2023-07-10T16:35:43.651Z"
   },
   {
    "duration": 197,
    "start_time": "2023-07-10T16:36:42.527Z"
   },
   {
    "duration": 276,
    "start_time": "2023-07-10T16:41:05.748Z"
   },
   {
    "duration": 225,
    "start_time": "2023-07-10T16:41:22.138Z"
   },
   {
    "duration": 203,
    "start_time": "2023-07-10T16:41:36.370Z"
   },
   {
    "duration": 204,
    "start_time": "2023-07-10T16:42:30.995Z"
   },
   {
    "duration": 185,
    "start_time": "2023-07-10T16:53:19.378Z"
   },
   {
    "duration": 225,
    "start_time": "2023-07-10T17:04:52.016Z"
   },
   {
    "duration": 317,
    "start_time": "2023-07-10T17:47:01.016Z"
   },
   {
    "duration": 236,
    "start_time": "2023-07-10T17:53:57.412Z"
   },
   {
    "duration": 253,
    "start_time": "2023-07-10T18:04:52.603Z"
   },
   {
    "duration": 246,
    "start_time": "2023-07-10T18:09:27.385Z"
   },
   {
    "duration": 48,
    "start_time": "2023-07-10T20:50:16.360Z"
   },
   {
    "duration": 360,
    "start_time": "2023-07-10T20:50:24.307Z"
   },
   {
    "duration": 434,
    "start_time": "2023-07-10T20:50:24.670Z"
   },
   {
    "duration": 3,
    "start_time": "2023-07-10T20:50:25.106Z"
   },
   {
    "duration": 505,
    "start_time": "2023-07-10T20:50:25.111Z"
   },
   {
    "duration": 302,
    "start_time": "2023-07-10T20:50:25.617Z"
   },
   {
    "duration": 12,
    "start_time": "2023-07-10T20:50:25.920Z"
   },
   {
    "duration": 10,
    "start_time": "2023-07-10T20:50:25.933Z"
   },
   {
    "duration": 9,
    "start_time": "2023-07-10T20:50:25.945Z"
   },
   {
    "duration": 20,
    "start_time": "2023-07-10T20:50:25.956Z"
   },
   {
    "duration": 7,
    "start_time": "2023-07-10T20:50:25.978Z"
   },
   {
    "duration": 10,
    "start_time": "2023-07-10T20:50:25.987Z"
   },
   {
    "duration": 12,
    "start_time": "2023-07-10T20:50:25.998Z"
   },
   {
    "duration": 7,
    "start_time": "2023-07-10T20:50:26.011Z"
   },
   {
    "duration": 5,
    "start_time": "2023-07-10T20:50:26.020Z"
   },
   {
    "duration": 37,
    "start_time": "2023-07-10T20:50:26.027Z"
   },
   {
    "duration": 13,
    "start_time": "2023-07-10T20:50:26.065Z"
   },
   {
    "duration": 6,
    "start_time": "2023-07-10T20:50:26.079Z"
   },
   {
    "duration": 12,
    "start_time": "2023-07-10T20:50:26.087Z"
   },
   {
    "duration": 5,
    "start_time": "2023-07-10T20:50:26.100Z"
   },
   {
    "duration": 167,
    "start_time": "2023-07-10T20:50:26.107Z"
   },
   {
    "duration": 119,
    "start_time": "2023-07-10T20:50:26.276Z"
   },
   {
    "duration": 165,
    "start_time": "2023-07-10T20:50:26.396Z"
   },
   {
    "duration": 214,
    "start_time": "2023-07-10T20:50:26.563Z"
   },
   {
    "duration": 234,
    "start_time": "2023-07-10T20:50:26.778Z"
   },
   {
    "duration": 18,
    "start_time": "2023-07-10T20:50:27.013Z"
   },
   {
    "duration": 38,
    "start_time": "2023-07-10T20:50:27.033Z"
   },
   {
    "duration": 15,
    "start_time": "2023-07-10T20:50:27.073Z"
   },
   {
    "duration": 279,
    "start_time": "2023-07-10T20:50:27.091Z"
   },
   {
    "duration": 340,
    "start_time": "2023-07-10T20:50:27.372Z"
   },
   {
    "duration": 14,
    "start_time": "2023-07-10T20:50:27.713Z"
   },
   {
    "duration": 253,
    "start_time": "2023-07-10T20:50:27.728Z"
   },
   {
    "duration": 253,
    "start_time": "2023-07-10T20:50:27.982Z"
   },
   {
    "duration": 843,
    "start_time": "2023-07-10T20:50:28.237Z"
   },
   {
    "duration": 16,
    "start_time": "2023-07-10T20:50:29.082Z"
   },
   {
    "duration": 47,
    "start_time": "2023-07-10T20:50:29.100Z"
   },
   {
    "duration": 13,
    "start_time": "2023-07-10T20:50:29.149Z"
   },
   {
    "duration": 20,
    "start_time": "2023-07-10T20:50:29.164Z"
   },
   {
    "duration": 11,
    "start_time": "2023-07-10T20:50:29.187Z"
   },
   {
    "duration": 321,
    "start_time": "2023-07-10T20:50:58.893Z"
   },
   {
    "duration": 330,
    "start_time": "2023-07-10T20:52:32.138Z"
   },
   {
    "duration": 411,
    "start_time": "2023-07-10T20:53:56.905Z"
   },
   {
    "duration": 280,
    "start_time": "2023-07-10T20:54:03.654Z"
   },
   {
    "duration": 304,
    "start_time": "2023-07-10T20:55:49.514Z"
   },
   {
    "duration": 316,
    "start_time": "2023-07-10T20:56:04.917Z"
   },
   {
    "duration": 313,
    "start_time": "2023-07-10T20:56:23.774Z"
   },
   {
    "duration": 451,
    "start_time": "2023-07-10T20:56:40.012Z"
   },
   {
    "duration": 1768,
    "start_time": "2023-07-11T00:06:49.272Z"
   },
   {
    "duration": 286,
    "start_time": "2023-07-11T00:07:04.152Z"
   },
   {
    "duration": 342,
    "start_time": "2023-07-11T00:08:32.173Z"
   },
   {
    "duration": 142,
    "start_time": "2023-07-11T00:08:38.240Z"
   },
   {
    "duration": 731,
    "start_time": "2023-07-11T00:15:22.134Z"
   },
   {
    "duration": 791,
    "start_time": "2023-07-11T00:15:50.543Z"
   },
   {
    "duration": 282,
    "start_time": "2023-07-11T00:23:00.746Z"
   },
   {
    "duration": 338,
    "start_time": "2023-07-11T00:23:31.645Z"
   },
   {
    "duration": 266,
    "start_time": "2023-07-11T00:23:40.647Z"
   },
   {
    "duration": 3,
    "start_time": "2023-07-11T00:31:31.358Z"
   },
   {
    "duration": 24,
    "start_time": "2023-07-11T00:31:31.364Z"
   },
   {
    "duration": 29,
    "start_time": "2023-07-11T00:31:31.390Z"
   },
   {
    "duration": 30,
    "start_time": "2023-07-11T00:31:31.421Z"
   },
   {
    "duration": 96,
    "start_time": "2023-07-11T00:31:31.454Z"
   },
   {
    "duration": 8,
    "start_time": "2023-07-11T00:31:31.552Z"
   },
   {
    "duration": 32,
    "start_time": "2023-07-11T00:31:31.562Z"
   },
   {
    "duration": 38,
    "start_time": "2023-07-11T00:31:31.595Z"
   },
   {
    "duration": 42,
    "start_time": "2023-07-11T00:31:31.635Z"
   },
   {
    "duration": 14,
    "start_time": "2023-07-11T00:31:31.679Z"
   },
   {
    "duration": 126,
    "start_time": "2023-07-11T00:31:31.695Z"
   },
   {
    "duration": 35,
    "start_time": "2023-07-11T00:31:31.823Z"
   },
   {
    "duration": 25,
    "start_time": "2023-07-11T00:31:31.860Z"
   },
   {
    "duration": 41,
    "start_time": "2023-07-11T00:31:31.887Z"
   },
   {
    "duration": 27,
    "start_time": "2023-07-11T00:31:31.929Z"
   },
   {
    "duration": 59,
    "start_time": "2023-07-11T00:31:31.958Z"
   },
   {
    "duration": 7,
    "start_time": "2023-07-11T00:31:32.019Z"
   },
   {
    "duration": 9,
    "start_time": "2023-07-11T00:31:32.028Z"
   },
   {
    "duration": 6,
    "start_time": "2023-07-11T00:31:32.039Z"
   },
   {
    "duration": 126,
    "start_time": "2023-07-11T00:31:32.046Z"
   },
   {
    "duration": 124,
    "start_time": "2023-07-11T00:31:32.174Z"
   },
   {
    "duration": 171,
    "start_time": "2023-07-11T00:31:32.300Z"
   },
   {
    "duration": 264,
    "start_time": "2023-07-11T00:31:32.473Z"
   },
   {
    "duration": 289,
    "start_time": "2023-07-11T00:31:32.739Z"
   },
   {
    "duration": 31,
    "start_time": "2023-07-11T00:31:33.030Z"
   },
   {
    "duration": 20,
    "start_time": "2023-07-11T00:31:33.063Z"
   },
   {
    "duration": 18,
    "start_time": "2023-07-11T00:31:33.085Z"
   },
   {
    "duration": 309,
    "start_time": "2023-07-11T00:31:33.105Z"
   },
   {
    "duration": 318,
    "start_time": "2023-07-11T00:31:33.418Z"
   },
   {
    "duration": 28,
    "start_time": "2023-07-11T00:31:33.738Z"
   },
   {
    "duration": 299,
    "start_time": "2023-07-11T00:31:33.768Z"
   },
   {
    "duration": 292,
    "start_time": "2023-07-11T00:31:34.069Z"
   },
   {
    "duration": 829,
    "start_time": "2023-07-11T00:31:34.362Z"
   },
   {
    "duration": 13,
    "start_time": "2023-07-11T00:31:35.193Z"
   },
   {
    "duration": 117,
    "start_time": "2023-07-11T00:31:35.211Z"
   },
   {
    "duration": 0,
    "start_time": "2023-07-11T00:31:35.330Z"
   },
   {
    "duration": 0,
    "start_time": "2023-07-11T00:31:35.331Z"
   },
   {
    "duration": 0,
    "start_time": "2023-07-11T00:31:35.332Z"
   },
   {
    "duration": 466,
    "start_time": "2023-07-11T12:54:46.937Z"
   },
   {
    "duration": 509,
    "start_time": "2023-07-11T12:54:47.405Z"
   },
   {
    "duration": 4,
    "start_time": "2023-07-11T12:54:47.917Z"
   },
   {
    "duration": 565,
    "start_time": "2023-07-11T12:54:47.924Z"
   },
   {
    "duration": 279,
    "start_time": "2023-07-11T12:54:48.491Z"
   },
   {
    "duration": 13,
    "start_time": "2023-07-11T12:54:48.772Z"
   },
   {
    "duration": 13,
    "start_time": "2023-07-11T12:54:48.786Z"
   },
   {
    "duration": 11,
    "start_time": "2023-07-11T12:54:48.800Z"
   },
   {
    "duration": 12,
    "start_time": "2023-07-11T12:54:48.813Z"
   },
   {
    "duration": 28,
    "start_time": "2023-07-11T12:54:48.828Z"
   },
   {
    "duration": 12,
    "start_time": "2023-07-11T12:54:48.857Z"
   },
   {
    "duration": 14,
    "start_time": "2023-07-11T12:54:48.871Z"
   },
   {
    "duration": 7,
    "start_time": "2023-07-11T12:54:48.886Z"
   },
   {
    "duration": 8,
    "start_time": "2023-07-11T12:54:48.899Z"
   },
   {
    "duration": 8,
    "start_time": "2023-07-11T12:54:48.909Z"
   },
   {
    "duration": 44,
    "start_time": "2023-07-11T12:54:48.918Z"
   },
   {
    "duration": 6,
    "start_time": "2023-07-11T12:54:48.964Z"
   },
   {
    "duration": 10,
    "start_time": "2023-07-11T12:54:48.972Z"
   },
   {
    "duration": 7,
    "start_time": "2023-07-11T12:54:48.983Z"
   },
   {
    "duration": 188,
    "start_time": "2023-07-11T12:54:48.991Z"
   },
   {
    "duration": 137,
    "start_time": "2023-07-11T12:54:49.180Z"
   },
   {
    "duration": 190,
    "start_time": "2023-07-11T12:54:49.319Z"
   },
   {
    "duration": 357,
    "start_time": "2023-07-11T12:54:49.510Z"
   },
   {
    "duration": 360,
    "start_time": "2023-07-11T12:54:49.869Z"
   },
   {
    "duration": 30,
    "start_time": "2023-07-11T12:54:50.230Z"
   },
   {
    "duration": 21,
    "start_time": "2023-07-11T12:54:50.262Z"
   },
   {
    "duration": 26,
    "start_time": "2023-07-11T12:54:50.285Z"
   },
   {
    "duration": 456,
    "start_time": "2023-07-11T12:54:50.315Z"
   },
   {
    "duration": 283,
    "start_time": "2023-07-11T12:54:50.774Z"
   },
   {
    "duration": 17,
    "start_time": "2023-07-11T12:54:51.059Z"
   },
   {
    "duration": 370,
    "start_time": "2023-07-11T12:54:51.078Z"
   },
   {
    "duration": 342,
    "start_time": "2023-07-11T12:54:51.453Z"
   },
   {
    "duration": 931,
    "start_time": "2023-07-11T12:54:51.797Z"
   },
   {
    "duration": 25,
    "start_time": "2023-07-11T12:54:52.730Z"
   },
   {
    "duration": 103,
    "start_time": "2023-07-11T12:54:52.757Z"
   },
   {
    "duration": 0,
    "start_time": "2023-07-11T12:54:52.862Z"
   },
   {
    "duration": 0,
    "start_time": "2023-07-11T12:54:52.863Z"
   },
   {
    "duration": 0,
    "start_time": "2023-07-11T12:54:52.864Z"
   },
   {
    "duration": 26,
    "start_time": "2023-07-11T13:13:32.436Z"
   },
   {
    "duration": 120,
    "start_time": "2023-07-11T13:14:50.344Z"
   },
   {
    "duration": 105,
    "start_time": "2023-07-11T13:14:57.639Z"
   },
   {
    "duration": 115,
    "start_time": "2023-07-11T13:15:04.253Z"
   },
   {
    "duration": 382,
    "start_time": "2023-07-11T13:15:35.806Z"
   },
   {
    "duration": 289,
    "start_time": "2023-07-11T13:15:36.190Z"
   },
   {
    "duration": 3,
    "start_time": "2023-07-11T13:15:36.481Z"
   },
   {
    "duration": 537,
    "start_time": "2023-07-11T13:15:36.486Z"
   },
   {
    "duration": 68,
    "start_time": "2023-07-11T13:15:37.024Z"
   },
   {
    "duration": 13,
    "start_time": "2023-07-11T13:15:37.094Z"
   },
   {
    "duration": 14,
    "start_time": "2023-07-11T13:15:37.108Z"
   },
   {
    "duration": 14,
    "start_time": "2023-07-11T13:15:37.125Z"
   },
   {
    "duration": 14,
    "start_time": "2023-07-11T13:15:37.141Z"
   },
   {
    "duration": 7,
    "start_time": "2023-07-11T13:15:37.158Z"
   },
   {
    "duration": 12,
    "start_time": "2023-07-11T13:15:37.167Z"
   },
   {
    "duration": 12,
    "start_time": "2023-07-11T13:15:37.180Z"
   },
   {
    "duration": 6,
    "start_time": "2023-07-11T13:15:37.194Z"
   },
   {
    "duration": 10,
    "start_time": "2023-07-11T13:15:37.202Z"
   },
   {
    "duration": 41,
    "start_time": "2023-07-11T13:15:37.214Z"
   },
   {
    "duration": 14,
    "start_time": "2023-07-11T13:15:37.257Z"
   },
   {
    "duration": 6,
    "start_time": "2023-07-11T13:15:37.272Z"
   },
   {
    "duration": 11,
    "start_time": "2023-07-11T13:15:37.280Z"
   },
   {
    "duration": 7,
    "start_time": "2023-07-11T13:15:37.292Z"
   },
   {
    "duration": 239,
    "start_time": "2023-07-11T13:15:37.301Z"
   },
   {
    "duration": 151,
    "start_time": "2023-07-11T13:15:37.554Z"
   },
   {
    "duration": 229,
    "start_time": "2023-07-11T13:15:37.708Z"
   },
   {
    "duration": 370,
    "start_time": "2023-07-11T13:15:37.939Z"
   },
   {
    "duration": 363,
    "start_time": "2023-07-11T13:15:38.311Z"
   },
   {
    "duration": 21,
    "start_time": "2023-07-11T13:15:38.675Z"
   },
   {
    "duration": 21,
    "start_time": "2023-07-11T13:15:38.698Z"
   },
   {
    "duration": 40,
    "start_time": "2023-07-11T13:15:38.720Z"
   },
   {
    "duration": 416,
    "start_time": "2023-07-11T13:15:38.764Z"
   },
   {
    "duration": 274,
    "start_time": "2023-07-11T13:15:39.182Z"
   },
   {
    "duration": 16,
    "start_time": "2023-07-11T13:15:39.458Z"
   },
   {
    "duration": 356,
    "start_time": "2023-07-11T13:15:39.475Z"
   },
   {
    "duration": 359,
    "start_time": "2023-07-11T13:15:39.832Z"
   },
   {
    "duration": 858,
    "start_time": "2023-07-11T13:15:40.192Z"
   },
   {
    "duration": 21,
    "start_time": "2023-07-11T13:15:41.055Z"
   },
   {
    "duration": 110,
    "start_time": "2023-07-11T13:15:41.078Z"
   },
   {
    "duration": 0,
    "start_time": "2023-07-11T13:15:41.189Z"
   },
   {
    "duration": 0,
    "start_time": "2023-07-11T13:15:41.191Z"
   },
   {
    "duration": 0,
    "start_time": "2023-07-11T13:15:41.192Z"
   },
   {
    "duration": 509,
    "start_time": "2023-07-11T18:57:16.069Z"
   },
   {
    "duration": 643,
    "start_time": "2023-07-11T18:57:16.580Z"
   },
   {
    "duration": 3,
    "start_time": "2023-07-11T18:57:17.225Z"
   },
   {
    "duration": 622,
    "start_time": "2023-07-11T18:57:17.230Z"
   },
   {
    "duration": 395,
    "start_time": "2023-07-11T18:57:17.856Z"
   },
   {
    "duration": 24,
    "start_time": "2023-07-11T18:57:18.254Z"
   },
   {
    "duration": 31,
    "start_time": "2023-07-11T18:57:18.280Z"
   },
   {
    "duration": 20,
    "start_time": "2023-07-11T18:57:18.323Z"
   },
   {
    "duration": 18,
    "start_time": "2023-07-11T18:57:18.346Z"
   },
   {
    "duration": 10,
    "start_time": "2023-07-11T18:57:18.369Z"
   },
   {
    "duration": 33,
    "start_time": "2023-07-11T18:57:18.382Z"
   },
   {
    "duration": 14,
    "start_time": "2023-07-11T18:57:18.417Z"
   },
   {
    "duration": 11,
    "start_time": "2023-07-11T18:57:18.433Z"
   },
   {
    "duration": 36,
    "start_time": "2023-07-11T18:57:18.448Z"
   },
   {
    "duration": 8,
    "start_time": "2023-07-11T18:57:18.490Z"
   },
   {
    "duration": 13,
    "start_time": "2023-07-11T18:57:18.502Z"
   },
   {
    "duration": 9,
    "start_time": "2023-07-11T18:57:18.518Z"
   },
   {
    "duration": 15,
    "start_time": "2023-07-11T18:57:18.529Z"
   },
   {
    "duration": 50,
    "start_time": "2023-07-11T18:57:18.546Z"
   },
   {
    "duration": 207,
    "start_time": "2023-07-11T18:57:18.600Z"
   },
   {
    "duration": 187,
    "start_time": "2023-07-11T18:57:18.810Z"
   },
   {
    "duration": 252,
    "start_time": "2023-07-11T18:57:19.000Z"
   },
   {
    "duration": 479,
    "start_time": "2023-07-11T18:57:19.255Z"
   },
   {
    "duration": 501,
    "start_time": "2023-07-11T18:57:19.736Z"
   },
   {
    "duration": 41,
    "start_time": "2023-07-11T18:57:20.239Z"
   },
   {
    "duration": 29,
    "start_time": "2023-07-11T18:57:20.286Z"
   },
   {
    "duration": 23,
    "start_time": "2023-07-11T18:57:20.318Z"
   },
   {
    "duration": 629,
    "start_time": "2023-07-11T18:57:20.344Z"
   },
   {
    "duration": 400,
    "start_time": "2023-07-11T18:57:20.975Z"
   },
   {
    "duration": 25,
    "start_time": "2023-07-11T18:57:21.377Z"
   },
   {
    "duration": 506,
    "start_time": "2023-07-11T18:57:21.405Z"
   },
   {
    "duration": 541,
    "start_time": "2023-07-11T18:57:21.914Z"
   },
   {
    "duration": 1117,
    "start_time": "2023-07-11T18:57:22.457Z"
   },
   {
    "duration": 34,
    "start_time": "2023-07-11T18:57:23.576Z"
   },
   {
    "duration": 20,
    "start_time": "2023-07-11T18:57:23.612Z"
   },
   {
    "duration": 6,
    "start_time": "2023-07-11T18:57:23.635Z"
   },
   {
    "duration": 15,
    "start_time": "2023-07-11T18:57:23.644Z"
   },
   {
    "duration": 31,
    "start_time": "2023-07-11T18:57:23.661Z"
   },
   {
    "duration": 5,
    "start_time": "2023-07-11T19:53:09.298Z"
   },
   {
    "duration": 21,
    "start_time": "2023-07-11T20:18:33.760Z"
   },
   {
    "duration": 9,
    "start_time": "2023-07-11T20:18:49.097Z"
   },
   {
    "duration": 8,
    "start_time": "2023-07-11T20:23:03.590Z"
   },
   {
    "duration": 17,
    "start_time": "2023-07-11T20:23:54.395Z"
   },
   {
    "duration": 224,
    "start_time": "2023-07-11T20:47:18.127Z"
   },
   {
    "duration": 173,
    "start_time": "2023-07-11T20:52:37.729Z"
   },
   {
    "duration": 155,
    "start_time": "2023-07-11T20:52:53.448Z"
   },
   {
    "duration": 530,
    "start_time": "2023-07-11T20:53:59.962Z"
   },
   {
    "duration": 255,
    "start_time": "2023-07-11T20:54:07.340Z"
   },
   {
    "duration": 344,
    "start_time": "2023-07-11T20:54:34.652Z"
   },
   {
    "duration": 117,
    "start_time": "2023-07-11T20:55:56.876Z"
   },
   {
    "duration": 263,
    "start_time": "2023-07-11T20:56:03.746Z"
   },
   {
    "duration": 180,
    "start_time": "2023-07-11T20:56:58.021Z"
   },
   {
    "duration": 142,
    "start_time": "2023-07-11T20:58:01.325Z"
   },
   {
    "duration": 137,
    "start_time": "2023-07-11T20:58:16.273Z"
   },
   {
    "duration": 136,
    "start_time": "2023-07-11T20:58:27.485Z"
   },
   {
    "duration": 249,
    "start_time": "2023-07-11T20:58:49.229Z"
   },
   {
    "duration": 81,
    "start_time": "2023-07-11T21:01:53.284Z"
   },
   {
    "duration": 142,
    "start_time": "2023-07-11T21:05:21.452Z"
   },
   {
    "duration": 149,
    "start_time": "2023-07-11T21:06:18.935Z"
   },
   {
    "duration": 106,
    "start_time": "2023-07-11T21:06:30.490Z"
   },
   {
    "duration": 75,
    "start_time": "2023-07-11T21:06:50.030Z"
   },
   {
    "duration": 16,
    "start_time": "2023-07-11T21:08:07.992Z"
   },
   {
    "duration": 17,
    "start_time": "2023-07-11T21:10:02.515Z"
   },
   {
    "duration": 99,
    "start_time": "2023-07-11T21:10:12.986Z"
   },
   {
    "duration": 154,
    "start_time": "2023-07-11T22:04:57.120Z"
   },
   {
    "duration": 137,
    "start_time": "2023-07-11T22:05:06.412Z"
   },
   {
    "duration": 165,
    "start_time": "2023-07-11T22:05:32.663Z"
   },
   {
    "duration": 265,
    "start_time": "2023-07-11T22:07:08.784Z"
   },
   {
    "duration": 302,
    "start_time": "2023-07-11T22:08:14.516Z"
   },
   {
    "duration": 347,
    "start_time": "2023-07-11T22:23:06.741Z"
   },
   {
    "duration": 352,
    "start_time": "2023-07-11T22:23:17.437Z"
   },
   {
    "duration": 24,
    "start_time": "2023-07-11T22:24:31.363Z"
   },
   {
    "duration": 13,
    "start_time": "2023-07-11T22:25:29.486Z"
   },
   {
    "duration": 25,
    "start_time": "2023-07-11T22:25:39.608Z"
   },
   {
    "duration": 5,
    "start_time": "2023-07-11T22:27:12.052Z"
   },
   {
    "duration": 3,
    "start_time": "2023-07-11T22:27:37.033Z"
   },
   {
    "duration": 39,
    "start_time": "2023-07-11T22:28:29.663Z"
   },
   {
    "duration": 4,
    "start_time": "2023-07-11T22:31:09.695Z"
   },
   {
    "duration": 112,
    "start_time": "2023-07-11T22:31:47.473Z"
   },
   {
    "duration": 130,
    "start_time": "2023-07-11T22:33:31.597Z"
   },
   {
    "duration": 5,
    "start_time": "2023-07-11T22:35:53.458Z"
   },
   {
    "duration": 417,
    "start_time": "2023-07-11T22:41:07.266Z"
   },
   {
    "duration": 251,
    "start_time": "2023-07-11T22:41:42.191Z"
   },
   {
    "duration": 325,
    "start_time": "2023-07-11T22:47:28.683Z"
   },
   {
    "duration": 108,
    "start_time": "2023-07-11T22:56:02.546Z"
   },
   {
    "duration": 14,
    "start_time": "2023-07-11T22:56:13.393Z"
   },
   {
    "duration": 1221,
    "start_time": "2023-07-11T22:56:38.041Z"
   },
   {
    "duration": 180,
    "start_time": "2023-07-11T22:56:39.263Z"
   },
   {
    "duration": 11,
    "start_time": "2023-07-11T22:56:39.445Z"
   },
   {
    "duration": 12,
    "start_time": "2023-07-11T22:56:39.458Z"
   },
   {
    "duration": 21,
    "start_time": "2023-07-11T22:56:39.472Z"
   },
   {
    "duration": 15,
    "start_time": "2023-07-11T22:56:39.495Z"
   },
   {
    "duration": 6,
    "start_time": "2023-07-11T22:56:39.511Z"
   },
   {
    "duration": 13,
    "start_time": "2023-07-11T22:56:39.519Z"
   },
   {
    "duration": 9,
    "start_time": "2023-07-11T22:56:39.534Z"
   },
   {
    "duration": 27,
    "start_time": "2023-07-11T22:56:39.546Z"
   },
   {
    "duration": 7,
    "start_time": "2023-07-11T22:56:39.575Z"
   },
   {
    "duration": 7,
    "start_time": "2023-07-11T22:56:39.584Z"
   },
   {
    "duration": 9,
    "start_time": "2023-07-11T22:56:39.593Z"
   },
   {
    "duration": 6,
    "start_time": "2023-07-11T22:56:39.604Z"
   },
   {
    "duration": 10,
    "start_time": "2023-07-11T22:56:39.611Z"
   },
   {
    "duration": 47,
    "start_time": "2023-07-11T22:56:39.623Z"
   },
   {
    "duration": 172,
    "start_time": "2023-07-11T22:56:39.672Z"
   },
   {
    "duration": 92,
    "start_time": "2023-07-11T22:56:39.846Z"
   },
   {
    "duration": 184,
    "start_time": "2023-07-11T22:56:39.940Z"
   },
   {
    "duration": 304,
    "start_time": "2023-07-11T22:56:40.125Z"
   },
   {
    "duration": 401,
    "start_time": "2023-07-11T22:56:40.430Z"
   },
   {
    "duration": 18,
    "start_time": "2023-07-11T22:56:40.833Z"
   },
   {
    "duration": 28,
    "start_time": "2023-07-11T22:56:40.852Z"
   },
   {
    "duration": 3,
    "start_time": "2023-07-11T22:56:40.882Z"
   },
   {
    "duration": 18,
    "start_time": "2023-07-11T22:56:40.886Z"
   },
   {
    "duration": 332,
    "start_time": "2023-07-11T22:56:40.905Z"
   },
   {
    "duration": 243,
    "start_time": "2023-07-11T22:56:41.239Z"
   },
   {
    "duration": 14,
    "start_time": "2023-07-11T22:56:41.485Z"
   },
   {
    "duration": 325,
    "start_time": "2023-07-11T22:56:41.501Z"
   },
   {
    "duration": 327,
    "start_time": "2023-07-11T22:56:41.828Z"
   },
   {
    "duration": 832,
    "start_time": "2023-07-11T22:56:42.156Z"
   },
   {
    "duration": 15,
    "start_time": "2023-07-11T22:56:42.989Z"
   },
   {
    "duration": 6,
    "start_time": "2023-07-11T22:56:43.005Z"
   },
   {
    "duration": 7,
    "start_time": "2023-07-11T22:56:43.012Z"
   },
   {
    "duration": 11,
    "start_time": "2023-07-11T22:56:43.021Z"
   },
   {
    "duration": 1233,
    "start_time": "2023-07-12T14:27:10.241Z"
   },
   {
    "duration": 82,
    "start_time": "2023-07-12T14:27:11.476Z"
   },
   {
    "duration": 12,
    "start_time": "2023-07-12T14:27:11.560Z"
   },
   {
    "duration": 13,
    "start_time": "2023-07-12T14:27:11.574Z"
   },
   {
    "duration": 14,
    "start_time": "2023-07-12T14:27:11.589Z"
   },
   {
    "duration": 31,
    "start_time": "2023-07-12T14:27:11.605Z"
   },
   {
    "duration": 22,
    "start_time": "2023-07-12T14:27:11.639Z"
   },
   {
    "duration": 18,
    "start_time": "2023-07-12T14:27:11.662Z"
   },
   {
    "duration": 20,
    "start_time": "2023-07-12T14:27:11.682Z"
   },
   {
    "duration": 27,
    "start_time": "2023-07-12T14:27:11.705Z"
   },
   {
    "duration": 6,
    "start_time": "2023-07-12T14:27:11.734Z"
   },
   {
    "duration": 16,
    "start_time": "2023-07-12T14:27:11.741Z"
   },
   {
    "duration": 13,
    "start_time": "2023-07-12T14:27:11.759Z"
   },
   {
    "duration": 7,
    "start_time": "2023-07-12T14:27:11.773Z"
   },
   {
    "duration": 18,
    "start_time": "2023-07-12T14:27:11.782Z"
   },
   {
    "duration": 26,
    "start_time": "2023-07-12T14:27:11.802Z"
   },
   {
    "duration": 236,
    "start_time": "2023-07-12T14:27:11.830Z"
   },
   {
    "duration": 105,
    "start_time": "2023-07-12T14:27:12.068Z"
   },
   {
    "duration": 209,
    "start_time": "2023-07-12T14:27:12.175Z"
   },
   {
    "duration": 365,
    "start_time": "2023-07-12T14:27:12.386Z"
   },
   {
    "duration": 468,
    "start_time": "2023-07-12T14:27:12.753Z"
   },
   {
    "duration": 20,
    "start_time": "2023-07-12T14:27:13.231Z"
   },
   {
    "duration": 20,
    "start_time": "2023-07-12T14:27:13.253Z"
   },
   {
    "duration": 5,
    "start_time": "2023-07-12T14:27:13.275Z"
   },
   {
    "duration": 45,
    "start_time": "2023-07-12T14:27:13.282Z"
   },
   {
    "duration": 399,
    "start_time": "2023-07-12T14:27:13.329Z"
   },
   {
    "duration": 310,
    "start_time": "2023-07-12T14:27:13.731Z"
   },
   {
    "duration": 16,
    "start_time": "2023-07-12T14:27:14.045Z"
   },
   {
    "duration": 385,
    "start_time": "2023-07-12T14:27:14.063Z"
   },
   {
    "duration": 383,
    "start_time": "2023-07-12T14:27:14.450Z"
   },
   {
    "duration": 1041,
    "start_time": "2023-07-12T14:27:14.835Z"
   },
   {
    "duration": 16,
    "start_time": "2023-07-12T14:27:15.878Z"
   },
   {
    "duration": 25,
    "start_time": "2023-07-12T14:27:15.896Z"
   },
   {
    "duration": 25,
    "start_time": "2023-07-12T14:27:15.923Z"
   },
   {
    "duration": 48,
    "start_time": "2023-07-12T14:27:15.950Z"
   },
   {
    "duration": 11,
    "start_time": "2023-07-12T14:30:03.723Z"
   },
   {
    "duration": 20,
    "start_time": "2023-07-12T14:32:59.701Z"
   },
   {
    "duration": 28,
    "start_time": "2023-07-12T14:33:15.837Z"
   },
   {
    "duration": 1477,
    "start_time": "2023-07-12T14:35:05.052Z"
   },
   {
    "duration": 72,
    "start_time": "2023-07-12T14:35:06.531Z"
   },
   {
    "duration": 29,
    "start_time": "2023-07-12T14:35:06.604Z"
   },
   {
    "duration": 21,
    "start_time": "2023-07-12T14:35:06.638Z"
   },
   {
    "duration": 42,
    "start_time": "2023-07-12T14:35:06.661Z"
   },
   {
    "duration": 34,
    "start_time": "2023-07-12T14:35:06.706Z"
   },
   {
    "duration": 42,
    "start_time": "2023-07-12T14:35:06.742Z"
   },
   {
    "duration": 62,
    "start_time": "2023-07-12T14:35:06.786Z"
   },
   {
    "duration": 40,
    "start_time": "2023-07-12T14:35:06.851Z"
   },
   {
    "duration": 36,
    "start_time": "2023-07-12T14:35:06.896Z"
   },
   {
    "duration": 45,
    "start_time": "2023-07-12T14:35:06.935Z"
   },
   {
    "duration": 28,
    "start_time": "2023-07-12T14:35:06.982Z"
   },
   {
    "duration": 31,
    "start_time": "2023-07-12T14:35:07.012Z"
   },
   {
    "duration": 39,
    "start_time": "2023-07-12T14:35:07.045Z"
   },
   {
    "duration": 31,
    "start_time": "2023-07-12T14:35:07.086Z"
   },
   {
    "duration": 26,
    "start_time": "2023-07-12T14:35:07.122Z"
   },
   {
    "duration": 383,
    "start_time": "2023-07-12T14:35:07.150Z"
   },
   {
    "duration": 122,
    "start_time": "2023-07-12T14:35:07.536Z"
   },
   {
    "duration": 247,
    "start_time": "2023-07-12T14:35:07.660Z"
   },
   {
    "duration": 459,
    "start_time": "2023-07-12T14:35:07.909Z"
   },
   {
    "duration": 528,
    "start_time": "2023-07-12T14:35:08.371Z"
   },
   {
    "duration": 36,
    "start_time": "2023-07-12T14:35:08.902Z"
   },
   {
    "duration": 66,
    "start_time": "2023-07-12T14:35:08.941Z"
   },
   {
    "duration": 23,
    "start_time": "2023-07-12T14:35:09.010Z"
   },
   {
    "duration": 57,
    "start_time": "2023-07-12T14:35:09.041Z"
   },
   {
    "duration": 535,
    "start_time": "2023-07-12T14:35:09.100Z"
   },
   {
    "duration": 421,
    "start_time": "2023-07-12T14:35:09.638Z"
   },
   {
    "duration": 25,
    "start_time": "2023-07-12T14:35:10.064Z"
   },
   {
    "duration": 465,
    "start_time": "2023-07-12T14:35:10.091Z"
   },
   {
    "duration": 421,
    "start_time": "2023-07-12T14:35:10.558Z"
   },
   {
    "duration": 1160,
    "start_time": "2023-07-12T14:35:10.981Z"
   },
   {
    "duration": 19,
    "start_time": "2023-07-12T14:35:12.143Z"
   },
   {
    "duration": 22,
    "start_time": "2023-07-12T14:35:12.164Z"
   },
   {
    "duration": 23,
    "start_time": "2023-07-12T14:35:12.188Z"
   },
   {
    "duration": 48,
    "start_time": "2023-07-12T14:35:12.213Z"
   },
   {
    "duration": 1427,
    "start_time": "2023-07-12T14:56:49.733Z"
   },
   {
    "duration": 199,
    "start_time": "2023-07-12T14:56:51.162Z"
   },
   {
    "duration": 12,
    "start_time": "2023-07-12T14:56:51.364Z"
   },
   {
    "duration": 13,
    "start_time": "2023-07-12T14:56:51.378Z"
   },
   {
    "duration": 31,
    "start_time": "2023-07-12T14:56:51.392Z"
   },
   {
    "duration": 22,
    "start_time": "2023-07-12T14:56:51.424Z"
   },
   {
    "duration": 20,
    "start_time": "2023-07-12T14:56:51.448Z"
   },
   {
    "duration": 35,
    "start_time": "2023-07-12T14:56:51.469Z"
   },
   {
    "duration": 21,
    "start_time": "2023-07-12T14:56:51.506Z"
   },
   {
    "duration": 15,
    "start_time": "2023-07-12T14:56:51.530Z"
   },
   {
    "duration": 6,
    "start_time": "2023-07-12T14:56:51.546Z"
   },
   {
    "duration": 9,
    "start_time": "2023-07-12T14:56:51.553Z"
   },
   {
    "duration": 15,
    "start_time": "2023-07-12T14:56:51.564Z"
   },
   {
    "duration": 15,
    "start_time": "2023-07-12T14:56:51.581Z"
   },
   {
    "duration": 9,
    "start_time": "2023-07-12T14:56:51.609Z"
   },
   {
    "duration": 26,
    "start_time": "2023-07-12T14:56:51.620Z"
   },
   {
    "duration": 211,
    "start_time": "2023-07-12T14:56:51.647Z"
   },
   {
    "duration": 125,
    "start_time": "2023-07-12T14:56:51.861Z"
   },
   {
    "duration": 223,
    "start_time": "2023-07-12T14:56:51.988Z"
   },
   {
    "duration": 351,
    "start_time": "2023-07-12T14:56:52.213Z"
   },
   {
    "duration": 459,
    "start_time": "2023-07-12T14:56:52.566Z"
   },
   {
    "duration": 21,
    "start_time": "2023-07-12T14:56:53.026Z"
   },
   {
    "duration": 36,
    "start_time": "2023-07-12T14:56:53.048Z"
   },
   {
    "duration": 56,
    "start_time": "2023-07-12T14:56:53.085Z"
   },
   {
    "duration": 62,
    "start_time": "2023-07-12T14:56:53.142Z"
   },
   {
    "duration": 351,
    "start_time": "2023-07-12T14:56:53.206Z"
   },
   {
    "duration": 296,
    "start_time": "2023-07-12T14:56:53.559Z"
   },
   {
    "duration": 17,
    "start_time": "2023-07-12T14:56:53.858Z"
   },
   {
    "duration": 388,
    "start_time": "2023-07-12T14:56:53.877Z"
   },
   {
    "duration": 370,
    "start_time": "2023-07-12T14:56:54.266Z"
   },
   {
    "duration": 968,
    "start_time": "2023-07-12T14:56:54.638Z"
   },
   {
    "duration": 17,
    "start_time": "2023-07-12T14:56:55.608Z"
   },
   {
    "duration": 18,
    "start_time": "2023-07-12T14:56:55.627Z"
   },
   {
    "duration": 21,
    "start_time": "2023-07-12T14:56:55.647Z"
   },
   {
    "duration": 55,
    "start_time": "2023-07-12T14:56:55.670Z"
   },
   {
    "duration": 6,
    "start_time": "2023-07-12T14:59:33.209Z"
   },
   {
    "duration": 6,
    "start_time": "2023-07-12T15:24:44.396Z"
   },
   {
    "duration": 11,
    "start_time": "2023-07-12T15:29:25.835Z"
   },
   {
    "duration": 15,
    "start_time": "2023-07-12T16:50:41.806Z"
   },
   {
    "duration": 12,
    "start_time": "2023-07-12T16:50:56.747Z"
   },
   {
    "duration": 4,
    "start_time": "2023-07-12T18:10:42.908Z"
   },
   {
    "duration": 84,
    "start_time": "2023-07-12T18:10:42.915Z"
   },
   {
    "duration": 10,
    "start_time": "2023-07-12T18:10:43.001Z"
   },
   {
    "duration": 22,
    "start_time": "2023-07-12T18:10:43.013Z"
   },
   {
    "duration": 16,
    "start_time": "2023-07-12T18:10:43.037Z"
   },
   {
    "duration": 24,
    "start_time": "2023-07-12T18:10:43.055Z"
   },
   {
    "duration": 31,
    "start_time": "2023-07-12T18:10:43.082Z"
   },
   {
    "duration": 24,
    "start_time": "2023-07-12T18:10:43.115Z"
   },
   {
    "duration": 16,
    "start_time": "2023-07-12T18:10:43.141Z"
   },
   {
    "duration": 19,
    "start_time": "2023-07-12T18:10:43.159Z"
   },
   {
    "duration": 7,
    "start_time": "2023-07-12T18:10:43.181Z"
   },
   {
    "duration": 12,
    "start_time": "2023-07-12T18:10:43.208Z"
   },
   {
    "duration": 21,
    "start_time": "2023-07-12T18:10:43.222Z"
   },
   {
    "duration": 10,
    "start_time": "2023-07-12T18:10:43.245Z"
   },
   {
    "duration": 22,
    "start_time": "2023-07-12T18:10:43.257Z"
   },
   {
    "duration": 30,
    "start_time": "2023-07-12T18:10:43.281Z"
   },
   {
    "duration": 213,
    "start_time": "2023-07-12T18:10:43.313Z"
   },
   {
    "duration": 153,
    "start_time": "2023-07-12T18:10:43.528Z"
   },
   {
    "duration": 209,
    "start_time": "2023-07-12T18:10:43.683Z"
   },
   {
    "duration": 438,
    "start_time": "2023-07-12T18:10:43.894Z"
   },
   {
    "duration": 455,
    "start_time": "2023-07-12T18:10:44.334Z"
   },
   {
    "duration": 39,
    "start_time": "2023-07-12T18:10:44.791Z"
   },
   {
    "duration": 32,
    "start_time": "2023-07-12T18:10:44.832Z"
   },
   {
    "duration": 6,
    "start_time": "2023-07-12T18:10:44.866Z"
   },
   {
    "duration": 52,
    "start_time": "2023-07-12T18:10:44.875Z"
   },
   {
    "duration": 405,
    "start_time": "2023-07-12T18:10:44.930Z"
   },
   {
    "duration": 431,
    "start_time": "2023-07-12T18:10:45.337Z"
   },
   {
    "duration": 17,
    "start_time": "2023-07-12T18:10:45.770Z"
   },
   {
    "duration": 479,
    "start_time": "2023-07-12T18:10:45.791Z"
   },
   {
    "duration": 525,
    "start_time": "2023-07-12T18:10:46.273Z"
   },
   {
    "duration": 1121,
    "start_time": "2023-07-12T18:10:46.808Z"
   },
   {
    "duration": 23,
    "start_time": "2023-07-12T18:10:47.931Z"
   },
   {
    "duration": 89,
    "start_time": "2023-07-12T18:10:47.957Z"
   },
   {
    "duration": 31,
    "start_time": "2023-07-12T18:10:48.048Z"
   },
   {
    "duration": 38,
    "start_time": "2023-07-12T18:10:48.081Z"
   },
   {
    "duration": 14,
    "start_time": "2023-07-12T18:15:49.530Z"
   },
   {
    "duration": 1058,
    "start_time": "2023-07-13T13:51:45.325Z"
   },
   {
    "duration": 68,
    "start_time": "2023-07-13T13:51:46.385Z"
   },
   {
    "duration": 11,
    "start_time": "2023-07-13T13:51:46.455Z"
   },
   {
    "duration": 25,
    "start_time": "2023-07-13T13:51:46.468Z"
   },
   {
    "duration": 19,
    "start_time": "2023-07-13T13:51:46.494Z"
   },
   {
    "duration": 24,
    "start_time": "2023-07-13T13:51:46.514Z"
   },
   {
    "duration": 24,
    "start_time": "2023-07-13T13:51:46.540Z"
   },
   {
    "duration": 36,
    "start_time": "2023-07-13T13:51:46.566Z"
   },
   {
    "duration": 22,
    "start_time": "2023-07-13T13:51:46.603Z"
   },
   {
    "duration": 22,
    "start_time": "2023-07-13T13:51:46.628Z"
   },
   {
    "duration": 20,
    "start_time": "2023-07-13T13:51:46.651Z"
   },
   {
    "duration": 12,
    "start_time": "2023-07-13T13:51:46.672Z"
   },
   {
    "duration": 26,
    "start_time": "2023-07-13T13:51:46.686Z"
   },
   {
    "duration": 14,
    "start_time": "2023-07-13T13:51:46.714Z"
   },
   {
    "duration": 20,
    "start_time": "2023-07-13T13:51:46.729Z"
   },
   {
    "duration": 13,
    "start_time": "2023-07-13T13:51:46.751Z"
   },
   {
    "duration": 193,
    "start_time": "2023-07-13T13:51:46.766Z"
   },
   {
    "duration": 88,
    "start_time": "2023-07-13T13:51:46.961Z"
   },
   {
    "duration": 187,
    "start_time": "2023-07-13T13:51:47.051Z"
   },
   {
    "duration": 355,
    "start_time": "2023-07-13T13:51:47.239Z"
   },
   {
    "duration": 402,
    "start_time": "2023-07-13T13:51:47.595Z"
   },
   {
    "duration": 18,
    "start_time": "2023-07-13T13:51:47.999Z"
   },
   {
    "duration": 50,
    "start_time": "2023-07-13T13:51:48.018Z"
   },
   {
    "duration": 15,
    "start_time": "2023-07-13T13:51:48.069Z"
   },
   {
    "duration": 32,
    "start_time": "2023-07-13T13:51:48.086Z"
   },
   {
    "duration": 311,
    "start_time": "2023-07-13T13:51:48.119Z"
   },
   {
    "duration": 257,
    "start_time": "2023-07-13T13:51:48.432Z"
   },
   {
    "duration": 15,
    "start_time": "2023-07-13T13:51:48.691Z"
   },
   {
    "duration": 364,
    "start_time": "2023-07-13T13:51:48.708Z"
   },
   {
    "duration": 360,
    "start_time": "2023-07-13T13:51:49.073Z"
   },
   {
    "duration": 860,
    "start_time": "2023-07-13T13:51:49.434Z"
   },
   {
    "duration": 14,
    "start_time": "2023-07-13T13:51:50.295Z"
   },
   {
    "duration": 12,
    "start_time": "2023-07-13T13:51:50.311Z"
   },
   {
    "duration": 20,
    "start_time": "2023-07-13T13:51:50.324Z"
   },
   {
    "duration": 28,
    "start_time": "2023-07-13T13:51:50.345Z"
   }
  ],
  "kernelspec": {
   "display_name": "Python 3 (ipykernel)",
   "language": "python",
   "name": "python3"
  },
  "language_info": {
   "codemirror_mode": {
    "name": "ipython",
    "version": 3
   },
   "file_extension": ".py",
   "mimetype": "text/x-python",
   "name": "python",
   "nbconvert_exporter": "python",
   "pygments_lexer": "ipython3",
   "version": "3.11.7"
  },
  "toc": {
   "base_numbering": 1,
   "nav_menu": {},
   "number_sections": true,
   "sideBar": true,
   "skip_h1_title": true,
   "title_cell": "Table of Contents",
   "title_sidebar": "Contents",
   "toc_cell": false,
   "toc_position": {},
   "toc_section_display": true,
   "toc_window_display": false
  }
 },
 "nbformat": 4,
 "nbformat_minor": 5
}
